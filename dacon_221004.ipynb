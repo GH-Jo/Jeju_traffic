{
  "cells": [
    {
      "cell_type": "code",
      "execution_count": null,
      "metadata": {
        "colab": {
          "base_uri": "https://localhost:8080/"
        },
        "id": "0Rt6A9Nkc6zD",
        "outputId": "32f0867b-9b68-4756-d8fc-bd32eb55bc3e"
      },
      "outputs": [
        {
          "name": "stdout",
          "output_type": "stream",
          "text": [
            "Mounted at /content/drive\n"
          ]
        }
      ],
      "source": [
        "from google.colab import drive\n",
        "drive.mount('/content/drive')"
      ]
    },
    {
      "cell_type": "code",
      "execution_count": null,
      "metadata": {
        "id": "59dDKmDSc01y"
      },
      "outputs": [],
      "source": [
        "import pandas as pd\n",
        "import numpy as np\n",
        "import matplotlib as mpl\n",
        "import matplotlib.pyplot as plt\n",
        "from sklearn.preprocessing import LabelEncoder\n",
        "import lightgbm as lgb\n",
        "import gc\n",
        "\n",
        "import seaborn as sns\n",
        "\n",
        "\n",
        "from collections import Counter"
      ]
    },
    {
      "cell_type": "code",
      "execution_count": null,
      "metadata": {
        "id": "UYC0hAKynqbN"
      },
      "outputs": [],
      "source": [
        "from google.colab.data_table import DataTable\n",
        "DataTable.max_columns = 30\n",
        "DataTable.max_rows = 20000\n"
      ]
    },
    {
      "cell_type": "markdown",
      "metadata": {
        "id": "vr3wnz1uc01-"
      },
      "source": [
        "### csv to parquet"
      ]
    },
    {
      "cell_type": "code",
      "execution_count": null,
      "metadata": {
        "id": "o-R6N_eSc02B"
      },
      "outputs": [],
      "source": [
        "def csv_to_parquet(csv_path, save_name):\n",
        "    df = pd.read_csv(csv_path)\n",
        "    df.to_parquet(f'./{save_name}.parquet')\n",
        "    del df\n",
        "    gc.collect()\n",
        "    print(save_name, 'Done.')"
      ]
    },
    {
      "cell_type": "code",
      "execution_count": null,
      "metadata": {
        "colab": {
          "base_uri": "https://localhost:8080/"
        },
        "id": "PHzA7qfkc02E",
        "outputId": "c1f4dda2-7e63-4e76-ea9b-4b4981cf163a"
      },
      "outputs": [
        {
          "name": "stdout",
          "output_type": "stream",
          "text": [
            "train Done.\n",
            "test Done.\n"
          ]
        }
      ],
      "source": [
        "from os.path import join\n",
        "base_path = '/content/drive/MyDrive/data/dacon_jeju_2022'\n",
        "parquet_flag = True\n",
        "if parquet_flag:\n",
        "  csv_to_parquet(join(base_path, 'train.csv'), 'train')\n",
        "  csv_to_parquet(join(base_path, 'test.csv'), 'test')\n",
        "  train = pd.read_parquet('/content/train.parquet')#(join(base_path, 'train.parquet'))\n",
        "  test = pd.read_parquet('/content/test.parquet')#(join(base_path, 'test.parquet'))\n",
        "\n",
        "else:\n",
        "  train = pd.read_csv(join(base_path, 'train.csv'))\n",
        "  test =  pd.read_csv(join(base_path, 'test.csv'))\n"
      ]
    },
    {
      "cell_type": "code",
      "execution_count": null,
      "metadata": {
        "colab": {
          "base_uri": "https://localhost:8080/",
          "height": 424
        },
        "id": "0XNs-OtLmmOp",
        "outputId": "de73d5db-94a6-48b7-f030-db33d6c3b493"
      },
      "outputs": [
        {
          "data": {
            "text/html": [
              "\n",
              "  <div id=\"df-de7f5470-bd17-42fa-9a6f-fbc9bfbe2850\">\n",
              "    <div class=\"colab-df-container\">\n",
              "      <div>\n",
              "<style scoped>\n",
              "    .dataframe tbody tr th:only-of-type {\n",
              "        vertical-align: middle;\n",
              "    }\n",
              "\n",
              "    .dataframe tbody tr th {\n",
              "        vertical-align: top;\n",
              "    }\n",
              "\n",
              "    .dataframe thead th {\n",
              "        text-align: right;\n",
              "    }\n",
              "</style>\n",
              "<table border=\"1\" class=\"dataframe\">\n",
              "  <thead>\n",
              "    <tr style=\"text-align: right;\">\n",
              "      <th></th>\n",
              "      <th>start_turn_restricted</th>\n",
              "      <th>end_turn_restricted</th>\n",
              "    </tr>\n",
              "  </thead>\n",
              "  <tbody>\n",
              "    <tr>\n",
              "      <th>0</th>\n",
              "      <td>없음</td>\n",
              "      <td>없음</td>\n",
              "    </tr>\n",
              "    <tr>\n",
              "      <th>1</th>\n",
              "      <td>있음</td>\n",
              "      <td>없음</td>\n",
              "    </tr>\n",
              "    <tr>\n",
              "      <th>2</th>\n",
              "      <td>없음</td>\n",
              "      <td>없음</td>\n",
              "    </tr>\n",
              "    <tr>\n",
              "      <th>3</th>\n",
              "      <td>없음</td>\n",
              "      <td>없음</td>\n",
              "    </tr>\n",
              "    <tr>\n",
              "      <th>4</th>\n",
              "      <td>없음</td>\n",
              "      <td>없음</td>\n",
              "    </tr>\n",
              "    <tr>\n",
              "      <th>...</th>\n",
              "      <td>...</td>\n",
              "      <td>...</td>\n",
              "    </tr>\n",
              "    <tr>\n",
              "      <th>4701212</th>\n",
              "      <td>없음</td>\n",
              "      <td>없음</td>\n",
              "    </tr>\n",
              "    <tr>\n",
              "      <th>4701213</th>\n",
              "      <td>없음</td>\n",
              "      <td>없음</td>\n",
              "    </tr>\n",
              "    <tr>\n",
              "      <th>4701214</th>\n",
              "      <td>없음</td>\n",
              "      <td>없음</td>\n",
              "    </tr>\n",
              "    <tr>\n",
              "      <th>4701215</th>\n",
              "      <td>없음</td>\n",
              "      <td>없음</td>\n",
              "    </tr>\n",
              "    <tr>\n",
              "      <th>4701216</th>\n",
              "      <td>없음</td>\n",
              "      <td>없음</td>\n",
              "    </tr>\n",
              "  </tbody>\n",
              "</table>\n",
              "<p>4701217 rows × 2 columns</p>\n",
              "</div>\n",
              "      <button class=\"colab-df-convert\" onclick=\"convertToInteractive('df-de7f5470-bd17-42fa-9a6f-fbc9bfbe2850')\"\n",
              "              title=\"Convert this dataframe to an interactive table.\"\n",
              "              style=\"display:none;\">\n",
              "        \n",
              "  <svg xmlns=\"http://www.w3.org/2000/svg\" height=\"24px\"viewBox=\"0 0 24 24\"\n",
              "       width=\"24px\">\n",
              "    <path d=\"M0 0h24v24H0V0z\" fill=\"none\"/>\n",
              "    <path d=\"M18.56 5.44l.94 2.06.94-2.06 2.06-.94-2.06-.94-.94-2.06-.94 2.06-2.06.94zm-11 1L8.5 8.5l.94-2.06 2.06-.94-2.06-.94L8.5 2.5l-.94 2.06-2.06.94zm10 10l.94 2.06.94-2.06 2.06-.94-2.06-.94-.94-2.06-.94 2.06-2.06.94z\"/><path d=\"M17.41 7.96l-1.37-1.37c-.4-.4-.92-.59-1.43-.59-.52 0-1.04.2-1.43.59L10.3 9.45l-7.72 7.72c-.78.78-.78 2.05 0 2.83L4 21.41c.39.39.9.59 1.41.59.51 0 1.02-.2 1.41-.59l7.78-7.78 2.81-2.81c.8-.78.8-2.07 0-2.86zM5.41 20L4 18.59l7.72-7.72 1.47 1.35L5.41 20z\"/>\n",
              "  </svg>\n",
              "      </button>\n",
              "      \n",
              "  <style>\n",
              "    .colab-df-container {\n",
              "      display:flex;\n",
              "      flex-wrap:wrap;\n",
              "      gap: 12px;\n",
              "    }\n",
              "\n",
              "    .colab-df-convert {\n",
              "      background-color: #E8F0FE;\n",
              "      border: none;\n",
              "      border-radius: 50%;\n",
              "      cursor: pointer;\n",
              "      display: none;\n",
              "      fill: #1967D2;\n",
              "      height: 32px;\n",
              "      padding: 0 0 0 0;\n",
              "      width: 32px;\n",
              "    }\n",
              "\n",
              "    .colab-df-convert:hover {\n",
              "      background-color: #E2EBFA;\n",
              "      box-shadow: 0px 1px 2px rgba(60, 64, 67, 0.3), 0px 1px 3px 1px rgba(60, 64, 67, 0.15);\n",
              "      fill: #174EA6;\n",
              "    }\n",
              "\n",
              "    [theme=dark] .colab-df-convert {\n",
              "      background-color: #3B4455;\n",
              "      fill: #D2E3FC;\n",
              "    }\n",
              "\n",
              "    [theme=dark] .colab-df-convert:hover {\n",
              "      background-color: #434B5C;\n",
              "      box-shadow: 0px 1px 3px 1px rgba(0, 0, 0, 0.15);\n",
              "      filter: drop-shadow(0px 1px 2px rgba(0, 0, 0, 0.3));\n",
              "      fill: #FFFFFF;\n",
              "    }\n",
              "  </style>\n",
              "\n",
              "      <script>\n",
              "        const buttonEl =\n",
              "          document.querySelector('#df-de7f5470-bd17-42fa-9a6f-fbc9bfbe2850 button.colab-df-convert');\n",
              "        buttonEl.style.display =\n",
              "          google.colab.kernel.accessAllowed ? 'block' : 'none';\n",
              "\n",
              "        async function convertToInteractive(key) {\n",
              "          const element = document.querySelector('#df-de7f5470-bd17-42fa-9a6f-fbc9bfbe2850');\n",
              "          const dataTable =\n",
              "            await google.colab.kernel.invokeFunction('convertToInteractive',\n",
              "                                                     [key], {});\n",
              "          if (!dataTable) return;\n",
              "\n",
              "          const docLinkHtml = 'Like what you see? Visit the ' +\n",
              "            '<a target=\"_blank\" href=https://colab.research.google.com/notebooks/data_table.ipynb>data table notebook</a>'\n",
              "            + ' to learn more about interactive tables.';\n",
              "          element.innerHTML = '';\n",
              "          dataTable['output_type'] = 'display_data';\n",
              "          await google.colab.output.renderOutput(dataTable, element);\n",
              "          const docLink = document.createElement('div');\n",
              "          docLink.innerHTML = docLinkHtml;\n",
              "          element.appendChild(docLink);\n",
              "        }\n",
              "      </script>\n",
              "    </div>\n",
              "  </div>\n",
              "  "
            ],
            "text/plain": [
              "        start_turn_restricted end_turn_restricted\n",
              "0                          없음                  없음\n",
              "1                          있음                  없음\n",
              "2                          없음                  없음\n",
              "3                          없음                  없음\n",
              "4                          없음                  없음\n",
              "...                       ...                 ...\n",
              "4701212                    없음                  없음\n",
              "4701213                    없음                  없음\n",
              "4701214                    없음                  없음\n",
              "4701215                    없음                  없음\n",
              "4701216                    없음                  없음\n",
              "\n",
              "[4701217 rows x 2 columns]"
            ]
          },
          "execution_count": 7,
          "metadata": {},
          "output_type": "execute_result"
        }
      ],
      "source": [
        "train[['start_turn_restricted', 'end_turn_restricted']]"
      ]
    },
    {
      "cell_type": "code",
      "execution_count": null,
      "metadata": {
        "colab": {
          "base_uri": "https://localhost:8080/"
        },
        "id": "n4rOQHPMCRE3",
        "outputId": "12782727-52a8-46ef-94f2-ed1a64400acd"
      },
      "outputs": [
        {
          "data": {
            "text/plain": [
              "Index(['id', 'base_date', 'day_of_week', 'base_hour', 'road_in_use',\n",
              "       'lane_count', 'road_rating', 'road_name', 'multi_linked',\n",
              "       'connect_code', 'maximum_speed_limit', 'vehicle_restricted',\n",
              "       'weight_restricted', 'height_restricted', 'road_type',\n",
              "       'start_node_name', 'start_latitude', 'start_longitude',\n",
              "       'start_turn_restricted', 'end_node_name', 'end_latitude',\n",
              "       'end_longitude', 'end_turn_restricted', 'target',\n",
              "       'lane_count + road_rating', 'lane_count / road_rating', 'dt_date',\n",
              "       'year', 'month', 'day', 'yearmonth', 'distance_lat', 'distance_long',\n",
              "       'distance', 'distance_std', 'mean_target', 'time_mean_target',\n",
              "       'time_end_mean_target', 'start_turn_restricted + end_turn_restricted'],\n",
              "      dtype='object')"
            ]
          },
          "execution_count": 46,
          "metadata": {},
          "output_type": "execute_result"
        }
      ],
      "source": [
        "train.columns"
      ]
    },
    {
      "cell_type": "code",
      "execution_count": null,
      "metadata": {
        "colab": {
          "base_uri": "https://localhost:8080/",
          "height": 491
        },
        "id": "71oVBkV_BcD8",
        "outputId": "7d99cfd3-34ee-4837-8fa7-91ec0d4a7bc2"
      },
      "outputs": [
        {
          "data": {
            "text/plain": [
              "<matplotlib.axes._subplots.AxesSubplot at 0x7fe14678ae50>"
            ]
          },
          "execution_count": 26,
          "metadata": {},
          "output_type": "execute_result"
        },
        {
          "data": {
            "image/png": "[encoded data removed]",
            "text/plain": [
              "<Figure size 432x288 with 2 Axes>"
            ]
          },
          "metadata": {
            "needs_background": "light"
          },
          "output_type": "display_data"
        }
      ],
      "source": [
        "sns.heatmap(train[[\n",
        "       'lane_count', 'road_rating','lane_count + road_rating', 'lane_count / road_rating', 'target',\n",
        "       'start_turn_restricted + end_turn_restricted', 'start_turn_restricted', 'end_turn_restricted'\n",
        "      ]].corr(), annot=True)"
      ]
    },
    {
      "cell_type": "markdown",
      "metadata": {
        "id": "I6LymAtcoZxp"
      },
      "source": [
        "### 시작과 끝 거리를 기준으로 정렬"
      ]
    },
    {
      "cell_type": "code",
      "execution_count": null,
      "metadata": {
        "id": "lD-i-admLzbI"
      },
      "outputs": [],
      "source": [
        "# train에 위도경도 거리를 넣어서 정렬\n",
        "train['distance_lat'] = abs(train['start_latitude']-train['end_latitude'])\n",
        "train['distance_long'] = abs(train['start_longitude']-train['end_longitude'])\n",
        "train['distance'] = (train['distance_lat']**2 + train['distance_long']**2) ** 0.5\n",
        "\n",
        "test['distance_lat'] = abs(test['start_latitude']-test['end_latitude'])\n",
        "test['distance_long'] = abs(test['start_longitude']-test['end_longitude'])\n",
        "test['distance'] = (test['distance_lat']**2 + test['distance_long']**2) ** 0.5"
      ]
    },
    {
      "cell_type": "code",
      "execution_count": null,
      "metadata": {
        "id": "b6tLZTcjMOsC"
      },
      "outputs": [],
      "source": [
        "train_dist = train.sort_values(by='distance').reset_index(drop=True)"
      ]
    },
    {
      "cell_type": "code",
      "execution_count": null,
      "metadata": {
        "id": "LqVNZVljQUZB"
      },
      "outputs": [],
      "source": [
        "# 누적 분포도"
      ]
    },
    {
      "cell_type": "code",
      "execution_count": null,
      "metadata": {
        "colab": {
          "base_uri": "https://localhost:8080/",
          "height": 290
        },
        "id": "W8gFdCEEQxDk",
        "outputId": "5f7b4224-9ce1-407d-fd8d-c9d073331da7"
      },
      "outputs": [
        {
          "data": {
            "image/png": "[encoded data removed]",
            "text/plain": [
              "<Figure size 432x288 with 1 Axes>"
            ]
          },
          "metadata": {
            "needs_background": "light"
          },
          "output_type": "display_data"
        }
      ],
      "source": [
        "import seaborn as sns\n",
        "sns.histplot(data=train_dist, x='distance', cumulative=True)\n",
        "plt.show()"
      ]
    },
    {
      "cell_type": "markdown",
      "metadata": {
        "id": "rIuFPoo8o0Um"
      },
      "source": [
        "### 지도"
      ]
    },
    {
      "cell_type": "code",
      "execution_count": null,
      "metadata": {
        "id": "YiPyybRlD_3-"
      },
      "outputs": [],
      "source": [
        "import folium\n",
        "m = folium.Map(location=[33.3, 126.5],\n",
        "               zoom_start=12,\n",
        "               width=750,\n",
        "               height=500\n",
        "               )\n",
        "from folium.plugins import MarkerCluster\n",
        "marker_cluster = MarkerCluster().add_to(m)"
      ]
    },
    {
      "cell_type": "code",
      "execution_count": null,
      "metadata": {
        "id": "SZ5Y6cEJJb7N"
      },
      "outputs": [],
      "source": [
        "idx = 0\n",
        "while idx < 10000:\n",
        "  folium.Marker([train_dist.loc[idx, 'start_latitude'], train_dist.loc[idx, 'start_longitude']]).add_to(marker_cluster)\n",
        "  idx += 1\n",
        "m"
      ]
    },
    {
      "cell_type": "code",
      "execution_count": null,
      "metadata": {
        "id": "oVw7Uat0plaF"
      },
      "outputs": [],
      "source": [
        "m"
      ]
    },
    {
      "cell_type": "code",
      "execution_count": null,
      "metadata": {
        "id": "AYhInrqHGHd3"
      },
      "outputs": [],
      "source": [
        "train_dist_re = train.sort_values(by='distance', ascending=False).reset_index(drop=True)"
      ]
    },
    {
      "cell_type": "code",
      "execution_count": null,
      "metadata": {
        "id": "GASEFwphISm4"
      },
      "outputs": [],
      "source": [
        "import folium\n",
        "m = folium.Map(location=[33.3, 126.5],\n",
        "               zoom_start=12,\n",
        "               width=750,\n",
        "               height=500\n",
        "               )\n",
        "from folium.plugins import MarkerCluster\n",
        "marker_cluster = MarkerCluster().add_to(m)"
      ]
    },
    {
      "cell_type": "code",
      "execution_count": null,
      "metadata": {
        "id": "b6EpfvsDpgfp"
      },
      "outputs": [],
      "source": [
        "idx = 0\n",
        "while idx < 10000:\n",
        "  folium.Marker([train_dist_re.loc[idx, 'end_latitude'], train_dist_re.loc[idx, 'end_longitude']]).add_to(marker_cluster)\n",
        "  idx += 1\n",
        "m"
      ]
    },
    {
      "cell_type": "markdown",
      "metadata": {
        "id": "hNnmaIz7EXZt"
      },
      "source": [
        "### EDA"
      ]
    },
    {
      "cell_type": "code",
      "execution_count": null,
      "metadata": {
        "colab": {
          "base_uri": "https://localhost:8080/"
        },
        "id": "l_x7sc43drBx",
        "outputId": "233abea8-893d-48fc-82cd-701af04341b3"
      },
      "outputs": [
        {
          "data": {
            "text/plain": [
              "Index(['id', 'base_date', 'day_of_week', 'base_hour', 'road_in_use',\n",
              "       'lane_count', 'road_rating', 'road_name', 'multi_linked',\n",
              "       'connect_code', 'maximum_speed_limit', 'vehicle_restricted',\n",
              "       'weight_restricted', 'height_restricted', 'road_type',\n",
              "       'start_node_name', 'start_latitude', 'start_longitude',\n",
              "       'start_turn_restricted', 'end_node_name', 'end_latitude',\n",
              "       'end_longitude', 'end_turn_restricted', 'target'],\n",
              "      dtype='object')"
            ]
          },
          "execution_count": 6,
          "metadata": {},
          "output_type": "execute_result"
        }
      ],
      "source": [
        "train.columns"
      ]
    },
    {
      "cell_type": "code",
      "execution_count": null,
      "metadata": {
        "colab": {
          "base_uri": "https://localhost:8080/"
        },
        "id": "pH4U97MRd59B",
        "outputId": "80080128-d981-4e22-a815-ff15028c8381"
      },
      "outputs": [
        {
          "data": {
            "text/plain": [
              "430379     20210901\n",
              "369019     20210901\n",
              "1132647    20210901\n",
              "4543127    20210901\n",
              "3428956    20210901\n",
              "             ...   \n",
              "2053638    20220731\n",
              "2748124    20220731\n",
              "2447938    20220731\n",
              "3749761    20220731\n",
              "4680098    20220731\n",
              "Name: base_date, Length: 4701217, dtype: int64"
            ]
          },
          "execution_count": 8,
          "metadata": {},
          "output_type": "execute_result"
        }
      ],
      "source": [
        "train.base_date.sort_values()"
      ]
    },
    {
      "cell_type": "code",
      "execution_count": null,
      "metadata": {
        "colab": {
          "base_uri": "https://localhost:8080/"
        },
        "id": "ATeyKZ9zenSx",
        "outputId": "09884d40-0f1f-4eea-dfe7-867d6898e7bf"
      },
      "outputs": [
        {
          "data": {
            "text/plain": [
              "0          20623\n",
              "1          20728\n",
              "2          11010\n",
              "3          20311\n",
              "4          11005\n",
              "           ...  \n",
              "4701212    11104\n",
              "4701213    20331\n",
              "4701214    20613\n",
              "4701215    11020\n",
              "4701216    11019\n",
              "Name: base_date_2, Length: 4701217, dtype: int64"
            ]
          },
          "execution_count": 11,
          "metadata": {},
          "output_type": "execute_result"
        }
      ],
      "source": [
        "train['base_date_2'] = train['base_date'] % 20200000\n",
        "train['base_date_2']"
      ]
    },
    {
      "cell_type": "markdown",
      "metadata": {
        "id": "cNJ1aFxyIR6d"
      },
      "source": [
        "### 트레이닝1(이전)"
      ]
    },
    {
      "cell_type": "code",
      "execution_count": null,
      "metadata": {
        "id": "qVhmCGttjo47"
      },
      "outputs": [],
      "source": [
        "str_col = ['day_of_week', 'start_turn_restricted', 'end_turn_restricted', ]\n",
        "for i in str_col:\n",
        "  le = LabelEncoder()\n",
        "  le = le.fit(train[i])\n",
        "  train[i] = le.transform(train[i])\n",
        "\n",
        "  for label in np.unique(test[i]):\n",
        "    if label not in le.classes_:\n",
        "      le.classes_ = np.append(le.classes_, label)\n",
        "  test[i] = le.transform(test[i])"
      ]
    },
    {
      "cell_type": "code",
      "execution_count": null,
      "metadata": {
        "colab": {
          "base_uri": "https://localhost:8080/"
        },
        "id": "wHsL7wLXV5Th",
        "outputId": "360b9fc7-6087-430c-a552-437d55cb8d8f"
      },
      "outputs": [
        {
          "data": {
            "text/plain": [
              "Index(['id', 'base_date', 'day_of_week', 'base_hour', 'road_in_use',\n",
              "       'lane_count', 'road_rating', 'road_name', 'multi_linked',\n",
              "       'connect_code', 'maximum_speed_limit', 'vehicle_restricted',\n",
              "       'weight_restricted', 'height_restricted', 'road_type',\n",
              "       'start_node_name', 'start_latitude', 'start_longitude',\n",
              "       'start_turn_restricted', 'end_node_name', 'end_latitude',\n",
              "       'end_longitude', 'end_turn_restricted', 'target'],\n",
              "      dtype='object')"
            ]
          },
          "execution_count": 19,
          "metadata": {},
          "output_type": "execute_result"
        }
      ],
      "source": [
        "train.columns"
      ]
    },
    {
      "cell_type": "code",
      "execution_count": null,
      "metadata": {
        "id": "mTA-bwi4BDnP"
      },
      "outputs": [],
      "source": [
        "# 지울 컬럼: height_restricted, vehicle_restricted"
      ]
    },
    {
      "cell_type": "code",
      "execution_count": null,
      "metadata": {
        "colab": {
          "base_uri": "https://localhost:8080/",
          "height": 450
        },
        "id": "OkBpny2hlCMj",
        "outputId": "1d1312df-c974-4cf8-fbd9-df495f92a88f"
      },
      "outputs": [],
      "source": [
        "y_train = train['target']\n",
        "X_train = train.drop(['height_restricted', 'road_in_use', 'id', 'base_date', 'target', 'multi_linked', 'connect_code', 'road_name', 'start_node_name', 'end_node_name','vehicle_restricted'], axis=1)\n",
        "test = test.drop(['height_restricted', 'road_in_use', 'id','base_date',  'multi_linked', 'connect_code', 'road_name', 'start_node_name', 'end_node_name','vehicle_restricted'], axis=1)\n",
        "\n",
        "print(X_train.shape)\n",
        "print(y_train.shape)\n",
        "print(test.shape)"
      ]
    },
    {
      "cell_type": "code",
      "execution_count": null,
      "metadata": {
        "id": "w3I9cf9LJRuJ"
      },
      "outputs": [],
      "source": [
        "LR = lgb.LGBMRegressor(random_state=42).fit(X_train, y_train)"
      ]
    },
    {
      "cell_type": "code",
      "execution_count": null,
      "metadata": {
        "id": "CLnDBjosKTCe"
      },
      "outputs": [],
      "source": [
        "pred = LR.predict(test)\n",
        "sample_submission = pd.read_csv(join(base_path, 'sample_submission.csv'))\n",
        "sample_submission['target'] = pred\n",
        "# sample_submission.to_csv(\"./submit.csv\", index = False)\n"
      ]
    },
    {
      "cell_type": "code",
      "execution_count": null,
      "metadata": {
        "colab": {
          "base_uri": "https://localhost:8080/",
          "height": 209
        },
        "id": "Xqfh-dj_7kpU",
        "outputId": "c5a210f5-6a01-43f1-ae2f-240854dfe6a5"
      },
      "outputs": [
        {
          "ename": "NameError",
          "evalue": "ignored",
          "output_type": "error",
          "traceback": [
            "\u001b[0;31m---------------------------------------------------------------------------\u001b[0m",
            "\u001b[0;31mNameError\u001b[0m                                 Traceback (most recent call last)",
            "\u001b[0;32m<ipython-input-2-086f190f5afc>\u001b[0m in \u001b[0;36m<module>\u001b[0;34m\u001b[0m\n\u001b[1;32m      1\u001b[0m \u001b[0;32mfrom\u001b[0m \u001b[0msklearn\u001b[0m\u001b[0;34m.\u001b[0m\u001b[0mmetrics\u001b[0m \u001b[0;32mimport\u001b[0m \u001b[0mmean_absolute_error\u001b[0m\u001b[0;34m\u001b[0m\u001b[0;34m\u001b[0m\u001b[0m\n\u001b[0;32m----> 2\u001b[0;31m \u001b[0mpred\u001b[0m \u001b[0;34m=\u001b[0m \u001b[0mLR\u001b[0m\u001b[0;34m.\u001b[0m\u001b[0mpredict\u001b[0m\u001b[0;34m(\u001b[0m\u001b[0mX_train\u001b[0m\u001b[0;34m)\u001b[0m\u001b[0;34m\u001b[0m\u001b[0;34m\u001b[0m\u001b[0m\n\u001b[0m\u001b[1;32m      3\u001b[0m \u001b[0mmean_absolute_error\u001b[0m\u001b[0;34m(\u001b[0m\u001b[0my_train\u001b[0m\u001b[0;34m,\u001b[0m \u001b[0mpred\u001b[0m\u001b[0;34m)\u001b[0m\u001b[0;34m\u001b[0m\u001b[0;34m\u001b[0m\u001b[0m\n",
            "\u001b[0;31mNameError\u001b[0m: name 'LR' is not defined"
          ]
        }
      ],
      "source": [
        "from sklearn.metrics import mean_absolute_error\n",
        "pred = LR.predict(X_train)\n",
        "mean_absolute_error(y_train, pred)\n"
      ]
    },
    {
      "cell_type": "code",
      "execution_count": null,
      "metadata": {
        "id": "KujWxhddOodS"
      },
      "outputs": [],
      "source": [
        "train = pd.read_parquet('/content/train.parquet')#(join(base_path, 'train.parquet'))\n",
        "test = pd.read_parquet('/content/test.parquet')#(join(base_path, 'test.parquet'))"
      ]
    },
    {
      "cell_type": "code",
      "execution_count": null,
      "metadata": {
        "id": "cjbW6B-GLSNG"
      },
      "outputs": [],
      "source": [
        "plt.figure(figsize=(20,100))\n",
        "sns.boxplot(data=train, x='target', y='end_latitude', orient='h')\n",
        "plt.show()"
      ]
    },
    {
      "cell_type": "markdown",
      "metadata": {
        "id": "A3X0e6hR-Cfh"
      },
      "source": [
        "# 트레이닝 2"
      ]
    },
    {
      "cell_type": "code",
      "execution_count": null,
      "metadata": {
        "colab": {
          "base_uri": "https://localhost:8080/"
        },
        "id": "UWyfoAUUUvnG",
        "outputId": "fd83e858-1b29-44a2-af43-6f8aac6b673c"
      },
      "outputs": [
        {
          "data": {
            "text/plain": [
              "Index(['id', 'base_date', 'day_of_week', 'base_hour', 'road_in_use',\n",
              "       'lane_count', 'road_rating', 'road_name', 'multi_linked',\n",
              "       'connect_code', 'maximum_speed_limit', 'vehicle_restricted',\n",
              "       'weight_restricted', 'height_restricted', 'road_type',\n",
              "       'start_node_name', 'start_latitude', 'start_longitude',\n",
              "       'start_turn_restricted', 'end_node_name', 'end_latitude',\n",
              "       'end_longitude', 'end_turn_restricted', 'target'],\n",
              "      dtype='object')"
            ]
          },
          "execution_count": 17,
          "metadata": {},
          "output_type": "execute_result"
        }
      ],
      "source": [
        "train.columns"
      ]
    },
    {
      "cell_type": "code",
      "execution_count": null,
      "metadata": {
        "colab": {
          "base_uri": "https://localhost:8080/",
          "height": 369
        },
        "id": "o3Ow8SLPVfwf",
        "outputId": "9e23c535-92c4-45e8-8f64-f22cf692b154"
      },
      "outputs": [
        {
          "data": {
            "text/html": [
              "\n",
              "  <div id=\"df-96c12f81-6c20-41dd-92b8-ca8793de8697\">\n",
              "    <div class=\"colab-df-container\">\n",
              "      <div>\n",
              "<style scoped>\n",
              "    .dataframe tbody tr th:only-of-type {\n",
              "        vertical-align: middle;\n",
              "    }\n",
              "\n",
              "    .dataframe tbody tr th {\n",
              "        vertical-align: top;\n",
              "    }\n",
              "\n",
              "    .dataframe thead th {\n",
              "        text-align: right;\n",
              "    }\n",
              "</style>\n",
              "<table border=\"1\" class=\"dataframe\">\n",
              "  <thead>\n",
              "    <tr style=\"text-align: right;\">\n",
              "      <th></th>\n",
              "      <th>id</th>\n",
              "      <th>base_date</th>\n",
              "      <th>day_of_week</th>\n",
              "      <th>base_hour</th>\n",
              "      <th>road_in_use</th>\n",
              "      <th>lane_count</th>\n",
              "      <th>road_rating</th>\n",
              "      <th>road_name</th>\n",
              "      <th>multi_linked</th>\n",
              "      <th>connect_code</th>\n",
              "      <th>...</th>\n",
              "      <th>road_type</th>\n",
              "      <th>start_node_name</th>\n",
              "      <th>start_latitude</th>\n",
              "      <th>start_longitude</th>\n",
              "      <th>start_turn_restricted</th>\n",
              "      <th>end_node_name</th>\n",
              "      <th>end_latitude</th>\n",
              "      <th>end_longitude</th>\n",
              "      <th>end_turn_restricted</th>\n",
              "      <th>target</th>\n",
              "    </tr>\n",
              "  </thead>\n",
              "  <tbody>\n",
              "    <tr>\n",
              "      <th>0</th>\n",
              "      <td>TRAIN_0000000</td>\n",
              "      <td>20220623</td>\n",
              "      <td>목</td>\n",
              "      <td>17</td>\n",
              "      <td>0</td>\n",
              "      <td>1</td>\n",
              "      <td>106</td>\n",
              "      <td>지방도1112호선</td>\n",
              "      <td>0</td>\n",
              "      <td>0</td>\n",
              "      <td>...</td>\n",
              "      <td>3</td>\n",
              "      <td>제3교래교</td>\n",
              "      <td>33.427747</td>\n",
              "      <td>126.662612</td>\n",
              "      <td>없음</td>\n",
              "      <td>제3교래교</td>\n",
              "      <td>33.427749</td>\n",
              "      <td>126.662335</td>\n",
              "      <td>없음</td>\n",
              "      <td>52.0</td>\n",
              "    </tr>\n",
              "    <tr>\n",
              "      <th>1</th>\n",
              "      <td>TRAIN_0000001</td>\n",
              "      <td>20220728</td>\n",
              "      <td>목</td>\n",
              "      <td>21</td>\n",
              "      <td>0</td>\n",
              "      <td>2</td>\n",
              "      <td>103</td>\n",
              "      <td>일반국도11호선</td>\n",
              "      <td>0</td>\n",
              "      <td>0</td>\n",
              "      <td>...</td>\n",
              "      <td>0</td>\n",
              "      <td>광양사거리</td>\n",
              "      <td>33.500730</td>\n",
              "      <td>126.529107</td>\n",
              "      <td>있음</td>\n",
              "      <td>KAL사거리</td>\n",
              "      <td>33.504811</td>\n",
              "      <td>126.526240</td>\n",
              "      <td>없음</td>\n",
              "      <td>30.0</td>\n",
              "    </tr>\n",
              "    <tr>\n",
              "      <th>2</th>\n",
              "      <td>TRAIN_0000002</td>\n",
              "      <td>20211010</td>\n",
              "      <td>일</td>\n",
              "      <td>7</td>\n",
              "      <td>0</td>\n",
              "      <td>2</td>\n",
              "      <td>103</td>\n",
              "      <td>일반국도16호선</td>\n",
              "      <td>0</td>\n",
              "      <td>0</td>\n",
              "      <td>...</td>\n",
              "      <td>0</td>\n",
              "      <td>창고천교</td>\n",
              "      <td>33.279145</td>\n",
              "      <td>126.368598</td>\n",
              "      <td>없음</td>\n",
              "      <td>상창육교</td>\n",
              "      <td>33.280072</td>\n",
              "      <td>126.362147</td>\n",
              "      <td>없음</td>\n",
              "      <td>61.0</td>\n",
              "    </tr>\n",
              "    <tr>\n",
              "      <th>3</th>\n",
              "      <td>TRAIN_0000003</td>\n",
              "      <td>20220311</td>\n",
              "      <td>금</td>\n",
              "      <td>13</td>\n",
              "      <td>0</td>\n",
              "      <td>2</td>\n",
              "      <td>107</td>\n",
              "      <td>태평로</td>\n",
              "      <td>0</td>\n",
              "      <td>0</td>\n",
              "      <td>...</td>\n",
              "      <td>0</td>\n",
              "      <td>남양리조트</td>\n",
              "      <td>33.246081</td>\n",
              "      <td>126.567204</td>\n",
              "      <td>없음</td>\n",
              "      <td>서현주택</td>\n",
              "      <td>33.245565</td>\n",
              "      <td>126.566228</td>\n",
              "      <td>없음</td>\n",
              "      <td>20.0</td>\n",
              "    </tr>\n",
              "    <tr>\n",
              "      <th>4</th>\n",
              "      <td>TRAIN_0000004</td>\n",
              "      <td>20211005</td>\n",
              "      <td>화</td>\n",
              "      <td>8</td>\n",
              "      <td>0</td>\n",
              "      <td>2</td>\n",
              "      <td>103</td>\n",
              "      <td>일반국도12호선</td>\n",
              "      <td>0</td>\n",
              "      <td>0</td>\n",
              "      <td>...</td>\n",
              "      <td>0</td>\n",
              "      <td>애월샷시</td>\n",
              "      <td>33.462214</td>\n",
              "      <td>126.326551</td>\n",
              "      <td>없음</td>\n",
              "      <td>애월입구</td>\n",
              "      <td>33.462677</td>\n",
              "      <td>126.330152</td>\n",
              "      <td>없음</td>\n",
              "      <td>38.0</td>\n",
              "    </tr>\n",
              "  </tbody>\n",
              "</table>\n",
              "<p>5 rows × 24 columns</p>\n",
              "</div>\n",
              "      <button class=\"colab-df-convert\" onclick=\"convertToInteractive('df-96c12f81-6c20-41dd-92b8-ca8793de8697')\"\n",
              "              title=\"Convert this dataframe to an interactive table.\"\n",
              "              style=\"display:none;\">\n",
              "        \n",
              "  <svg xmlns=\"http://www.w3.org/2000/svg\" height=\"24px\"viewBox=\"0 0 24 24\"\n",
              "       width=\"24px\">\n",
              "    <path d=\"M0 0h24v24H0V0z\" fill=\"none\"/>\n",
              "    <path d=\"M18.56 5.44l.94 2.06.94-2.06 2.06-.94-2.06-.94-.94-2.06-.94 2.06-2.06.94zm-11 1L8.5 8.5l.94-2.06 2.06-.94-2.06-.94L8.5 2.5l-.94 2.06-2.06.94zm10 10l.94 2.06.94-2.06 2.06-.94-2.06-.94-.94-2.06-.94 2.06-2.06.94z\"/><path d=\"M17.41 7.96l-1.37-1.37c-.4-.4-.92-.59-1.43-.59-.52 0-1.04.2-1.43.59L10.3 9.45l-7.72 7.72c-.78.78-.78 2.05 0 2.83L4 21.41c.39.39.9.59 1.41.59.51 0 1.02-.2 1.41-.59l7.78-7.78 2.81-2.81c.8-.78.8-2.07 0-2.86zM5.41 20L4 18.59l7.72-7.72 1.47 1.35L5.41 20z\"/>\n",
              "  </svg>\n",
              "      </button>\n",
              "      \n",
              "  <style>\n",
              "    .colab-df-container {\n",
              "      display:flex;\n",
              "      flex-wrap:wrap;\n",
              "      gap: 12px;\n",
              "    }\n",
              "\n",
              "    .colab-df-convert {\n",
              "      background-color: #E8F0FE;\n",
              "      border: none;\n",
              "      border-radius: 50%;\n",
              "      cursor: pointer;\n",
              "      display: none;\n",
              "      fill: #1967D2;\n",
              "      height: 32px;\n",
              "      padding: 0 0 0 0;\n",
              "      width: 32px;\n",
              "    }\n",
              "\n",
              "    .colab-df-convert:hover {\n",
              "      background-color: #E2EBFA;\n",
              "      box-shadow: 0px 1px 2px rgba(60, 64, 67, 0.3), 0px 1px 3px 1px rgba(60, 64, 67, 0.15);\n",
              "      fill: #174EA6;\n",
              "    }\n",
              "\n",
              "    [theme=dark] .colab-df-convert {\n",
              "      background-color: #3B4455;\n",
              "      fill: #D2E3FC;\n",
              "    }\n",
              "\n",
              "    [theme=dark] .colab-df-convert:hover {\n",
              "      background-color: #434B5C;\n",
              "      box-shadow: 0px 1px 3px 1px rgba(0, 0, 0, 0.15);\n",
              "      filter: drop-shadow(0px 1px 2px rgba(0, 0, 0, 0.3));\n",
              "      fill: #FFFFFF;\n",
              "    }\n",
              "  </style>\n",
              "\n",
              "      <script>\n",
              "        const buttonEl =\n",
              "          document.querySelector('#df-96c12f81-6c20-41dd-92b8-ca8793de8697 button.colab-df-convert');\n",
              "        buttonEl.style.display =\n",
              "          google.colab.kernel.accessAllowed ? 'block' : 'none';\n",
              "\n",
              "        async function convertToInteractive(key) {\n",
              "          const element = document.querySelector('#df-96c12f81-6c20-41dd-92b8-ca8793de8697');\n",
              "          const dataTable =\n",
              "            await google.colab.kernel.invokeFunction('convertToInteractive',\n",
              "                                                     [key], {});\n",
              "          if (!dataTable) return;\n",
              "\n",
              "          const docLinkHtml = 'Like what you see? Visit the ' +\n",
              "            '<a target=\"_blank\" href=https://colab.research.google.com/notebooks/data_table.ipynb>data table notebook</a>'\n",
              "            + ' to learn more about interactive tables.';\n",
              "          element.innerHTML = '';\n",
              "          dataTable['output_type'] = 'display_data';\n",
              "          await google.colab.output.renderOutput(dataTable, element);\n",
              "          const docLink = document.createElement('div');\n",
              "          docLink.innerHTML = docLinkHtml;\n",
              "          element.appendChild(docLink);\n",
              "        }\n",
              "      </script>\n",
              "    </div>\n",
              "  </div>\n",
              "  "
            ],
            "text/plain": [
              "              id  base_date day_of_week  base_hour  road_in_use  lane_count  \\\n",
              "0  TRAIN_0000000   20220623           목         17            0           1   \n",
              "1  TRAIN_0000001   20220728           목         21            0           2   \n",
              "2  TRAIN_0000002   20211010           일          7            0           2   \n",
              "3  TRAIN_0000003   20220311           금         13            0           2   \n",
              "4  TRAIN_0000004   20211005           화          8            0           2   \n",
              "\n",
              "   road_rating  road_name  multi_linked  connect_code  ...  road_type  \\\n",
              "0          106  지방도1112호선             0             0  ...          3   \n",
              "1          103   일반국도11호선             0             0  ...          0   \n",
              "2          103   일반국도16호선             0             0  ...          0   \n",
              "3          107        태평로             0             0  ...          0   \n",
              "4          103   일반국도12호선             0             0  ...          0   \n",
              "\n",
              "   start_node_name  start_latitude  start_longitude  start_turn_restricted  \\\n",
              "0            제3교래교       33.427747       126.662612                     없음   \n",
              "1            광양사거리       33.500730       126.529107                     있음   \n",
              "2             창고천교       33.279145       126.368598                     없음   \n",
              "3            남양리조트       33.246081       126.567204                     없음   \n",
              "4             애월샷시       33.462214       126.326551                     없음   \n",
              "\n",
              "  end_node_name  end_latitude  end_longitude end_turn_restricted target  \n",
              "0         제3교래교     33.427749     126.662335                  없음   52.0  \n",
              "1        KAL사거리     33.504811     126.526240                  없음   30.0  \n",
              "2          상창육교     33.280072     126.362147                  없음   61.0  \n",
              "3          서현주택     33.245565     126.566228                  없음   20.0  \n",
              "4          애월입구     33.462677     126.330152                  없음   38.0  \n",
              "\n",
              "[5 rows x 24 columns]"
            ]
          },
          "execution_count": 18,
          "metadata": {},
          "output_type": "execute_result"
        }
      ],
      "source": [
        "train.head()"
      ]
    },
    {
      "cell_type": "code",
      "execution_count": null,
      "metadata": {
        "colab": {
          "base_uri": "https://localhost:8080/"
        },
        "id": "SubD-dv7FJtn",
        "outputId": "e4254110-0533-4522-dc04-778c1130683c"
      },
      "outputs": [
        {
          "data": {
            "text/plain": [
              "0         202208\n",
              "1         202208\n",
              "2         202208\n",
              "3         202208\n",
              "4         202208\n",
              "           ...  \n",
              "291236    202208\n",
              "291237    202208\n",
              "291238    202208\n",
              "291239    202208\n",
              "291240    202208\n",
              "Name: yearmonth, Length: 291241, dtype: int64"
            ]
          },
          "execution_count": 8,
          "metadata": {},
          "output_type": "execute_result"
        }
      ],
      "source": [
        "def insert_datetime(df):  \n",
        "  df['base_date'] = df['base_date'].astype(str)\n",
        "  df['dt_date'] = pd.to_datetime(df['base_date'])\n",
        "  df['yearmonth'] = df['base_date'].str[:6].apply(int)\n",
        "  df['year'] = df['dt_date'].dt.year\n",
        "  df['month'] = df['dt_date'].dt.month\n",
        "  df['day'] = df['dt_date'].dt.day\n",
        "insert_datetime(train)\n",
        "insert_datetime(test)\n",
        "test.yearmonth"
      ]
    },
    {
      "cell_type": "code",
      "execution_count": null,
      "metadata": {
        "id": "iU6vvZpAZD-z"
      },
      "outputs": [],
      "source": [
        "train['distance_lat'] = abs(train['start_latitude']-train['end_latitude'])\n",
        "train['distance_long'] = abs(train['start_longitude']-train['end_longitude'])\n",
        "train['distance'] = (train['distance_lat']**2 + train['distance_long']**2) ** 0.5\n",
        "\n",
        "test['distance_lat'] = abs(test['start_latitude']-test['end_latitude'])\n",
        "test['distance_long'] = abs(test['start_longitude']-test['end_longitude'])\n",
        "test['distance'] = (test['distance_lat']**2 + test['distance_long']**2) ** 0.5"
      ]
    },
    {
      "cell_type": "code",
      "execution_count": null,
      "metadata": {
        "colab": {
          "base_uri": "https://localhost:8080/"
        },
        "id": "hxprUgXh5xo4",
        "outputId": "2d0bf827-ddd6-4866-ccb4-1d0e544fc4b2"
      },
      "outputs": [
        {
          "data": {
            "text/plain": [
              "0         5.664072\n",
              "1         7.019357\n",
              "2         5.218605\n",
              "3         5.501245\n",
              "4         7.160300\n",
              "            ...   \n",
              "291236    5.770649\n",
              "291237    6.171280\n",
              "291238    5.963654\n",
              "291239    4.546775\n",
              "291240    4.462464\n",
              "Name: distance_std, Length: 291241, dtype: float64"
            ]
          },
          "execution_count": 10,
          "metadata": {},
          "output_type": "execute_result"
        }
      ],
      "source": [
        "train['distance_std'] = np.log1p(train['distance']*100000)\n",
        "test['distance_std'] = np.log1p(test['distance']*100000)\n",
        "test['distance_std']"
      ]
    },
    {
      "cell_type": "markdown",
      "metadata": {
        "id": "hbad9c14XT5a"
      },
      "source": [
        "#### label 인코딩 순서 바꾸기"
      ]
    },
    {
      "cell_type": "code",
      "execution_count": null,
      "metadata": {
        "colab": {
          "base_uri": "https://localhost:8080/",
          "height": 206
        },
        "id": "BHidINLgL__g",
        "outputId": "fdd3afce-c8f5-4a6d-b27d-fcf7ca3263c8"
      },
      "outputs": [
        {
          "data": {
            "text/html": [
              "\n",
              "  <div id=\"df-f9d93d08-00a9-4f2f-8987-22debd99052d\">\n",
              "    <div class=\"colab-df-container\">\n",
              "      <div>\n",
              "<style scoped>\n",
              "    .dataframe tbody tr th:only-of-type {\n",
              "        vertical-align: middle;\n",
              "    }\n",
              "\n",
              "    .dataframe tbody tr th {\n",
              "        vertical-align: top;\n",
              "    }\n",
              "\n",
              "    .dataframe thead th {\n",
              "        text-align: right;\n",
              "    }\n",
              "</style>\n",
              "<table border=\"1\" class=\"dataframe\">\n",
              "  <thead>\n",
              "    <tr style=\"text-align: right;\">\n",
              "      <th></th>\n",
              "      <th>target</th>\n",
              "    </tr>\n",
              "    <tr>\n",
              "      <th>weight_restricted</th>\n",
              "      <th></th>\n",
              "    </tr>\n",
              "  </thead>\n",
              "  <tbody>\n",
              "    <tr>\n",
              "      <th>0.0</th>\n",
              "      <td>40.955696</td>\n",
              "    </tr>\n",
              "    <tr>\n",
              "      <th>32400.0</th>\n",
              "      <td>47.453350</td>\n",
              "    </tr>\n",
              "    <tr>\n",
              "      <th>43200.0</th>\n",
              "      <td>57.883888</td>\n",
              "    </tr>\n",
              "    <tr>\n",
              "      <th>50000.0</th>\n",
              "      <td>47.088665</td>\n",
              "    </tr>\n",
              "  </tbody>\n",
              "</table>\n",
              "</div>\n",
              "      <button class=\"colab-df-convert\" onclick=\"convertToInteractive('df-f9d93d08-00a9-4f2f-8987-22debd99052d')\"\n",
              "              title=\"Convert this dataframe to an interactive table.\"\n",
              "              style=\"display:none;\">\n",
              "        \n",
              "  <svg xmlns=\"http://www.w3.org/2000/svg\" height=\"24px\"viewBox=\"0 0 24 24\"\n",
              "       width=\"24px\">\n",
              "    <path d=\"M0 0h24v24H0V0z\" fill=\"none\"/>\n",
              "    <path d=\"M18.56 5.44l.94 2.06.94-2.06 2.06-.94-2.06-.94-.94-2.06-.94 2.06-2.06.94zm-11 1L8.5 8.5l.94-2.06 2.06-.94-2.06-.94L8.5 2.5l-.94 2.06-2.06.94zm10 10l.94 2.06.94-2.06 2.06-.94-2.06-.94-.94-2.06-.94 2.06-2.06.94z\"/><path d=\"M17.41 7.96l-1.37-1.37c-.4-.4-.92-.59-1.43-.59-.52 0-1.04.2-1.43.59L10.3 9.45l-7.72 7.72c-.78.78-.78 2.05 0 2.83L4 21.41c.39.39.9.59 1.41.59.51 0 1.02-.2 1.41-.59l7.78-7.78 2.81-2.81c.8-.78.8-2.07 0-2.86zM5.41 20L4 18.59l7.72-7.72 1.47 1.35L5.41 20z\"/>\n",
              "  </svg>\n",
              "      </button>\n",
              "      \n",
              "  <style>\n",
              "    .colab-df-container {\n",
              "      display:flex;\n",
              "      flex-wrap:wrap;\n",
              "      gap: 12px;\n",
              "    }\n",
              "\n",
              "    .colab-df-convert {\n",
              "      background-color: #E8F0FE;\n",
              "      border: none;\n",
              "      border-radius: 50%;\n",
              "      cursor: pointer;\n",
              "      display: none;\n",
              "      fill: #1967D2;\n",
              "      height: 32px;\n",
              "      padding: 0 0 0 0;\n",
              "      width: 32px;\n",
              "    }\n",
              "\n",
              "    .colab-df-convert:hover {\n",
              "      background-color: #E2EBFA;\n",
              "      box-shadow: 0px 1px 2px rgba(60, 64, 67, 0.3), 0px 1px 3px 1px rgba(60, 64, 67, 0.15);\n",
              "      fill: #174EA6;\n",
              "    }\n",
              "\n",
              "    [theme=dark] .colab-df-convert {\n",
              "      background-color: #3B4455;\n",
              "      fill: #D2E3FC;\n",
              "    }\n",
              "\n",
              "    [theme=dark] .colab-df-convert:hover {\n",
              "      background-color: #434B5C;\n",
              "      box-shadow: 0px 1px 3px 1px rgba(0, 0, 0, 0.15);\n",
              "      filter: drop-shadow(0px 1px 2px rgba(0, 0, 0, 0.3));\n",
              "      fill: #FFFFFF;\n",
              "    }\n",
              "  </style>\n",
              "\n",
              "      <script>\n",
              "        const buttonEl =\n",
              "          document.querySelector('#df-f9d93d08-00a9-4f2f-8987-22debd99052d button.colab-df-convert');\n",
              "        buttonEl.style.display =\n",
              "          google.colab.kernel.accessAllowed ? 'block' : 'none';\n",
              "\n",
              "        async function convertToInteractive(key) {\n",
              "          const element = document.querySelector('#df-f9d93d08-00a9-4f2f-8987-22debd99052d');\n",
              "          const dataTable =\n",
              "            await google.colab.kernel.invokeFunction('convertToInteractive',\n",
              "                                                     [key], {});\n",
              "          if (!dataTable) return;\n",
              "\n",
              "          const docLinkHtml = 'Like what you see? Visit the ' +\n",
              "            '<a target=\"_blank\" href=https://colab.research.google.com/notebooks/data_table.ipynb>data table notebook</a>'\n",
              "            + ' to learn more about interactive tables.';\n",
              "          element.innerHTML = '';\n",
              "          dataTable['output_type'] = 'display_data';\n",
              "          await google.colab.output.renderOutput(dataTable, element);\n",
              "          const docLink = document.createElement('div');\n",
              "          docLink.innerHTML = docLinkHtml;\n",
              "          element.appendChild(docLink);\n",
              "        }\n",
              "      </script>\n",
              "    </div>\n",
              "  </div>\n",
              "  "
            ],
            "text/plain": [
              "                      target\n",
              "weight_restricted           \n",
              "0.0                40.955696\n",
              "32400.0            47.453350\n",
              "43200.0            57.883888\n",
              "50000.0            47.088665"
            ]
          },
          "execution_count": 11,
          "metadata": {},
          "output_type": "execute_result"
        }
      ],
      "source": [
        "train.groupby([\"weight_restricted\"])[[\"target\"]].mean()"
      ]
    },
    {
      "cell_type": "code",
      "execution_count": null,
      "metadata": {
        "id": "a4EA5VlTLQNB"
      },
      "outputs": [],
      "source": [
        "# label 인코딩 순서 바꾸기\n",
        "def weight_restricted_encoding(x):\n",
        "    if x == 0:\n",
        "        y = 0\n",
        "    if x == 50000:\n",
        "        y = 1\n",
        "    if x == 32400:\n",
        "        y = 2\n",
        "    if x == 43200:\n",
        "        y = 3    \n",
        "    return y\n",
        "\n",
        "train[\"weight_restricted_en\"] = train[\"weight_restricted\"].apply(weight_restricted_encoding)\n",
        "test[\"weight_restricted_en\"] = test[\"weight_restricted\"].apply(weight_restricted_encoding)"
      ]
    },
    {
      "cell_type": "code",
      "execution_count": null,
      "metadata": {
        "id": "ge588IumNFxU"
      },
      "outputs": [],
      "source": [
        "def lane_encoding(x):\n",
        "    if x == 3:\n",
        "        return 0\n",
        "\n",
        "train[\"lane_val_en\"] = train[\"lane_count\"].apply(lane_encoding)\n",
        "test[\"lane_val_en\"] = test[\"lane_count\"].apply(lane_encoding)"
      ]
    },
    {
      "cell_type": "code",
      "execution_count": null,
      "metadata": {
        "colab": {
          "base_uri": "https://localhost:8080/",
          "height": 386
        },
        "id": "4gr3vB9tSF0I",
        "outputId": "9f628d9a-9bfe-4075-8d47-251837101482"
      },
      "outputs": [
        {
          "data": {
            "text/html": [
              "\n",
              "  <div id=\"df-21ff15f4-c1ae-4383-af07-6c2dc429cf54\">\n",
              "    <div class=\"colab-df-container\">\n",
              "      <div>\n",
              "<style scoped>\n",
              "    .dataframe tbody tr th:only-of-type {\n",
              "        vertical-align: middle;\n",
              "    }\n",
              "\n",
              "    .dataframe tbody tr th {\n",
              "        vertical-align: top;\n",
              "    }\n",
              "\n",
              "    .dataframe thead th {\n",
              "        text-align: right;\n",
              "    }\n",
              "</style>\n",
              "<table border=\"1\" class=\"dataframe\">\n",
              "  <thead>\n",
              "    <tr style=\"text-align: right;\">\n",
              "      <th></th>\n",
              "      <th>id</th>\n",
              "      <th>base_date</th>\n",
              "      <th>day_of_week</th>\n",
              "      <th>base_hour</th>\n",
              "      <th>road_in_use</th>\n",
              "      <th>lane_count</th>\n",
              "      <th>road_rating</th>\n",
              "      <th>road_name</th>\n",
              "      <th>multi_linked</th>\n",
              "      <th>connect_code</th>\n",
              "      <th>...</th>\n",
              "      <th>end_turn_restricted</th>\n",
              "      <th>target</th>\n",
              "      <th>dt_date</th>\n",
              "      <th>year</th>\n",
              "      <th>month</th>\n",
              "      <th>day</th>\n",
              "      <th>yearmonth</th>\n",
              "      <th>distance_lat</th>\n",
              "      <th>distance_long</th>\n",
              "      <th>distance</th>\n",
              "    </tr>\n",
              "  </thead>\n",
              "  <tbody>\n",
              "    <tr>\n",
              "      <th>0</th>\n",
              "      <td>TRAIN_0000000</td>\n",
              "      <td>20220623</td>\n",
              "      <td>목</td>\n",
              "      <td>17</td>\n",
              "      <td>0</td>\n",
              "      <td>1</td>\n",
              "      <td>106</td>\n",
              "      <td>지방도1112호선</td>\n",
              "      <td>0</td>\n",
              "      <td>0</td>\n",
              "      <td>...</td>\n",
              "      <td>없음</td>\n",
              "      <td>52.0</td>\n",
              "      <td>2022-06-23</td>\n",
              "      <td>2022</td>\n",
              "      <td>6</td>\n",
              "      <td>23</td>\n",
              "      <td>20226</td>\n",
              "      <td>0.000001</td>\n",
              "      <td>0.000277</td>\n",
              "      <td>0.000277</td>\n",
              "    </tr>\n",
              "    <tr>\n",
              "      <th>1</th>\n",
              "      <td>TRAIN_0000001</td>\n",
              "      <td>20220728</td>\n",
              "      <td>목</td>\n",
              "      <td>21</td>\n",
              "      <td>0</td>\n",
              "      <td>2</td>\n",
              "      <td>103</td>\n",
              "      <td>일반국도11호선</td>\n",
              "      <td>0</td>\n",
              "      <td>0</td>\n",
              "      <td>...</td>\n",
              "      <td>없음</td>\n",
              "      <td>30.0</td>\n",
              "      <td>2022-07-28</td>\n",
              "      <td>2022</td>\n",
              "      <td>7</td>\n",
              "      <td>28</td>\n",
              "      <td>20227</td>\n",
              "      <td>0.004081</td>\n",
              "      <td>0.002867</td>\n",
              "      <td>0.004987</td>\n",
              "    </tr>\n",
              "    <tr>\n",
              "      <th>2</th>\n",
              "      <td>TRAIN_0000002</td>\n",
              "      <td>20211010</td>\n",
              "      <td>일</td>\n",
              "      <td>7</td>\n",
              "      <td>0</td>\n",
              "      <td>2</td>\n",
              "      <td>103</td>\n",
              "      <td>일반국도16호선</td>\n",
              "      <td>0</td>\n",
              "      <td>0</td>\n",
              "      <td>...</td>\n",
              "      <td>없음</td>\n",
              "      <td>61.0</td>\n",
              "      <td>2021-10-10</td>\n",
              "      <td>2021</td>\n",
              "      <td>10</td>\n",
              "      <td>10</td>\n",
              "      <td>202110</td>\n",
              "      <td>0.000927</td>\n",
              "      <td>0.006450</td>\n",
              "      <td>0.006516</td>\n",
              "    </tr>\n",
              "    <tr>\n",
              "      <th>3</th>\n",
              "      <td>TRAIN_0000003</td>\n",
              "      <td>20220311</td>\n",
              "      <td>금</td>\n",
              "      <td>13</td>\n",
              "      <td>0</td>\n",
              "      <td>2</td>\n",
              "      <td>107</td>\n",
              "      <td>태평로</td>\n",
              "      <td>0</td>\n",
              "      <td>0</td>\n",
              "      <td>...</td>\n",
              "      <td>없음</td>\n",
              "      <td>20.0</td>\n",
              "      <td>2022-03-11</td>\n",
              "      <td>2022</td>\n",
              "      <td>3</td>\n",
              "      <td>11</td>\n",
              "      <td>20223</td>\n",
              "      <td>0.000515</td>\n",
              "      <td>0.000976</td>\n",
              "      <td>0.001104</td>\n",
              "    </tr>\n",
              "    <tr>\n",
              "      <th>4</th>\n",
              "      <td>TRAIN_0000004</td>\n",
              "      <td>20211005</td>\n",
              "      <td>화</td>\n",
              "      <td>8</td>\n",
              "      <td>0</td>\n",
              "      <td>2</td>\n",
              "      <td>103</td>\n",
              "      <td>일반국도12호선</td>\n",
              "      <td>0</td>\n",
              "      <td>0</td>\n",
              "      <td>...</td>\n",
              "      <td>없음</td>\n",
              "      <td>38.0</td>\n",
              "      <td>2021-10-05</td>\n",
              "      <td>2021</td>\n",
              "      <td>10</td>\n",
              "      <td>5</td>\n",
              "      <td>202110</td>\n",
              "      <td>0.000462</td>\n",
              "      <td>0.003601</td>\n",
              "      <td>0.003630</td>\n",
              "    </tr>\n",
              "  </tbody>\n",
              "</table>\n",
              "<p>5 rows × 32 columns</p>\n",
              "</div>\n",
              "      <button class=\"colab-df-convert\" onclick=\"convertToInteractive('df-21ff15f4-c1ae-4383-af07-6c2dc429cf54')\"\n",
              "              title=\"Convert this dataframe to an interactive table.\"\n",
              "              style=\"display:none;\">\n",
              "        \n",
              "  <svg xmlns=\"http://www.w3.org/2000/svg\" height=\"24px\"viewBox=\"0 0 24 24\"\n",
              "       width=\"24px\">\n",
              "    <path d=\"M0 0h24v24H0V0z\" fill=\"none\"/>\n",
              "    <path d=\"M18.56 5.44l.94 2.06.94-2.06 2.06-.94-2.06-.94-.94-2.06-.94 2.06-2.06.94zm-11 1L8.5 8.5l.94-2.06 2.06-.94-2.06-.94L8.5 2.5l-.94 2.06-2.06.94zm10 10l.94 2.06.94-2.06 2.06-.94-2.06-.94-.94-2.06-.94 2.06-2.06.94z\"/><path d=\"M17.41 7.96l-1.37-1.37c-.4-.4-.92-.59-1.43-.59-.52 0-1.04.2-1.43.59L10.3 9.45l-7.72 7.72c-.78.78-.78 2.05 0 2.83L4 21.41c.39.39.9.59 1.41.59.51 0 1.02-.2 1.41-.59l7.78-7.78 2.81-2.81c.8-.78.8-2.07 0-2.86zM5.41 20L4 18.59l7.72-7.72 1.47 1.35L5.41 20z\"/>\n",
              "  </svg>\n",
              "      </button>\n",
              "      \n",
              "  <style>\n",
              "    .colab-df-container {\n",
              "      display:flex;\n",
              "      flex-wrap:wrap;\n",
              "      gap: 12px;\n",
              "    }\n",
              "\n",
              "    .colab-df-convert {\n",
              "      background-color: #E8F0FE;\n",
              "      border: none;\n",
              "      border-radius: 50%;\n",
              "      cursor: pointer;\n",
              "      display: none;\n",
              "      fill: #1967D2;\n",
              "      height: 32px;\n",
              "      padding: 0 0 0 0;\n",
              "      width: 32px;\n",
              "    }\n",
              "\n",
              "    .colab-df-convert:hover {\n",
              "      background-color: #E2EBFA;\n",
              "      box-shadow: 0px 1px 2px rgba(60, 64, 67, 0.3), 0px 1px 3px 1px rgba(60, 64, 67, 0.15);\n",
              "      fill: #174EA6;\n",
              "    }\n",
              "\n",
              "    [theme=dark] .colab-df-convert {\n",
              "      background-color: #3B4455;\n",
              "      fill: #D2E3FC;\n",
              "    }\n",
              "\n",
              "    [theme=dark] .colab-df-convert:hover {\n",
              "      background-color: #434B5C;\n",
              "      box-shadow: 0px 1px 3px 1px rgba(0, 0, 0, 0.15);\n",
              "      filter: drop-shadow(0px 1px 2px rgba(0, 0, 0, 0.3));\n",
              "      fill: #FFFFFF;\n",
              "    }\n",
              "  </style>\n",
              "\n",
              "      <script>\n",
              "        const buttonEl =\n",
              "          document.querySelector('#df-21ff15f4-c1ae-4383-af07-6c2dc429cf54 button.colab-df-convert');\n",
              "        buttonEl.style.display =\n",
              "          google.colab.kernel.accessAllowed ? 'block' : 'none';\n",
              "\n",
              "        async function convertToInteractive(key) {\n",
              "          const element = document.querySelector('#df-21ff15f4-c1ae-4383-af07-6c2dc429cf54');\n",
              "          const dataTable =\n",
              "            await google.colab.kernel.invokeFunction('convertToInteractive',\n",
              "                                                     [key], {});\n",
              "          if (!dataTable) return;\n",
              "\n",
              "          const docLinkHtml = 'Like what you see? Visit the ' +\n",
              "            '<a target=\"_blank\" href=https://colab.research.google.com/notebooks/data_table.ipynb>data table notebook</a>'\n",
              "            + ' to learn more about interactive tables.';\n",
              "          element.innerHTML = '';\n",
              "          dataTable['output_type'] = 'display_data';\n",
              "          await google.colab.output.renderOutput(dataTable, element);\n",
              "          const docLink = document.createElement('div');\n",
              "          docLink.innerHTML = docLinkHtml;\n",
              "          element.appendChild(docLink);\n",
              "        }\n",
              "      </script>\n",
              "    </div>\n",
              "  </div>\n",
              "  "
            ],
            "text/plain": [
              "              id base_date day_of_week  base_hour  road_in_use  lane_count  \\\n",
              "0  TRAIN_0000000  20220623           목         17            0           1   \n",
              "1  TRAIN_0000001  20220728           목         21            0           2   \n",
              "2  TRAIN_0000002  20211010           일          7            0           2   \n",
              "3  TRAIN_0000003  20220311           금         13            0           2   \n",
              "4  TRAIN_0000004  20211005           화          8            0           2   \n",
              "\n",
              "   road_rating  road_name  multi_linked  connect_code  ...  \\\n",
              "0          106  지방도1112호선             0             0  ...   \n",
              "1          103   일반국도11호선             0             0  ...   \n",
              "2          103   일반국도16호선             0             0  ...   \n",
              "3          107        태평로             0             0  ...   \n",
              "4          103   일반국도12호선             0             0  ...   \n",
              "\n",
              "   end_turn_restricted  target    dt_date  year  month day  yearmonth  \\\n",
              "0                   없음    52.0 2022-06-23  2022      6  23      20226   \n",
              "1                   없음    30.0 2022-07-28  2022      7  28      20227   \n",
              "2                   없음    61.0 2021-10-10  2021     10  10     202110   \n",
              "3                   없음    20.0 2022-03-11  2022      3  11      20223   \n",
              "4                   없음    38.0 2021-10-05  2021     10   5     202110   \n",
              "\n",
              "   distance_lat distance_long  distance  \n",
              "0      0.000001      0.000277  0.000277  \n",
              "1      0.004081      0.002867  0.004987  \n",
              "2      0.000927      0.006450  0.006516  \n",
              "3      0.000515      0.000976  0.001104  \n",
              "4      0.000462      0.003601  0.003630  \n",
              "\n",
              "[5 rows x 32 columns]"
            ]
          },
          "execution_count": 8,
          "metadata": {},
          "output_type": "execute_result"
        }
      ],
      "source": [
        "train.head()"
      ]
    },
    {
      "cell_type": "markdown",
      "metadata": {
        "id": "XrSxDF1SXdMr"
      },
      "source": [
        "#### 요일 인코딩"
      ]
    },
    {
      "cell_type": "code",
      "execution_count": null,
      "metadata": {
        "id": "QI64qsRlRiG-"
      },
      "outputs": [],
      "source": [
        "def day_encoding(x):\n",
        "  day_dic = {'월':0, '화':1, '수':2, '목':3,\n",
        "             '금':4, '토':5, '일':6}\n",
        "  return day_dic[x]\n",
        "train['day_of_week'] = train['day_of_week'].apply(day_encoding)\n",
        "test['day_of_week'] = test['day_of_week'].apply(day_encoding)"
      ]
    },
    {
      "cell_type": "code",
      "execution_count": null,
      "metadata": {
        "id": "4sM-eha4SuVA"
      },
      "outputs": [],
      "source": [
        "# train['day_hour'] = train['day_of_week']*24 + train['base_hour']\n",
        "# test['day_hour'] = test['day_of_week']*24 + test['base_hour']\n",
        "# train.head()"
      ]
    },
    {
      "cell_type": "code",
      "execution_count": null,
      "metadata": {
        "id": "m4G06bGYZhYV"
      },
      "outputs": [],
      "source": [
        "# label encoding\n",
        "str_col = ['start_turn_restricted', 'end_turn_restricted', # day_of_week\n",
        "           'road_name', 'start_node_name', 'end_node_name'] \n",
        "for i in str_col:\n",
        "  le = LabelEncoder()\n",
        "  le = le.fit(train[i])\n",
        "  train[i] = le.transform(train[i])\n",
        "\n",
        "  for label in np.unique(test[i]):\n",
        "    if label not in le.classes_:\n",
        "      le.classes_ = np.append(le.classes_, label)\n",
        "  test[i] = le.transform(test[i])"
      ]
    },
    {
      "cell_type": "code",
      "execution_count": null,
      "metadata": {
        "colab": {
          "base_uri": "https://localhost:8080/"
        },
        "id": "lmHsO55tZZP-",
        "outputId": "f9112f21-b8bd-4cac-e96e-05c911cb4558"
      },
      "outputs": [
        {
          "data": {
            "text/plain": [
              "Index(['id', 'base_date', 'day_of_week', 'base_hour', 'road_in_use',\n",
              "       'lane_count', 'road_rating', 'road_name', 'multi_linked',\n",
              "       'connect_code', 'maximum_speed_limit', 'vehicle_restricted',\n",
              "       'weight_restricted', 'height_restricted', 'road_type',\n",
              "       'start_node_name', 'start_latitude', 'start_longitude',\n",
              "       'start_turn_restricted', 'end_node_name', 'end_latitude',\n",
              "       'end_longitude', 'end_turn_restricted', 'target', 'dt_date', 'year',\n",
              "       'month', 'day', 'yearmonth', 'distance_lat', 'distance_long',\n",
              "       'distance', 'day_hour'],\n",
              "      dtype='object')"
            ]
          },
          "execution_count": 12,
          "metadata": {},
          "output_type": "execute_result"
        }
      ],
      "source": [
        "train.columns"
      ]
    },
    {
      "cell_type": "code",
      "execution_count": null,
      "metadata": {
        "colab": {
          "base_uri": "https://localhost:8080/"
        },
        "id": "KdbTg33X1_VX",
        "outputId": "b3ac43d5-b308-43d6-c0fb-464af9b48a05"
      },
      "outputs": [
        {
          "data": {
            "text/plain": [
              "True"
            ]
          },
          "execution_count": 29,
          "metadata": {},
          "output_type": "execute_result"
        }
      ],
      "source": [
        "s1.issubset(s2)"
      ]
    },
    {
      "cell_type": "code",
      "execution_count": null,
      "metadata": {
        "colab": {
          "base_uri": "https://localhost:8080/",
          "height": 279
        },
        "id": "lF7TG_z43mDw",
        "outputId": "a77fbbc7-41e7-4c7d-fbbc-41d87d8113d3"
      },
      "outputs": [
        {
          "data": {
            "image/png": "[encoded data removed]",
            "text/plain": [
              "<Figure size 432x288 with 1 Axes>"
            ]
          },
          "metadata": {
            "needs_background": "light"
          },
          "output_type": "display_data"
        }
      ],
      "source": [
        "sns.histplot(train['target'])\n",
        "plt.show()"
      ]
    },
    {
      "cell_type": "markdown",
      "metadata": {
        "id": "MY4OehruYVyp"
      },
      "source": [
        "### 평균속력 치팅\n",
        "위치별 평균 속력"
      ]
    },
    {
      "cell_type": "code",
      "execution_count": null,
      "metadata": {
        "id": "v3JivoF8Yamz"
      },
      "outputs": [],
      "source": [
        "train_part = train.groupby('end_longitude')['target'].mean().to_frame().reset_index()\n",
        "train_part.rename(columns={'target':'mean_target'}, inplace=True)"
      ]
    },
    {
      "cell_type": "code",
      "execution_count": null,
      "metadata": {
        "id": "13uGk6LfYaYI"
      },
      "outputs": [],
      "source": [
        "train = pd.merge(train, train_part, on='end_longitude')\n",
        "test = pd.merge(test, train_part, how='left', on='end_longitude')"
      ]
    },
    {
      "cell_type": "markdown",
      "metadata": {
        "id": "FpIj0g_83MOf"
      },
      "source": [
        "위치+시간별 평균 속력"
      ]
    },
    {
      "cell_type": "code",
      "execution_count": null,
      "metadata": {
        "id": "aNkHSsf1tBLx"
      },
      "outputs": [],
      "source": []
    },
    {
      "cell_type": "code",
      "execution_count": null,
      "metadata": {
        "id": "oz2NtFGl3Rcv"
      },
      "outputs": [],
      "source": [
        "time_end_group = train.groupby(['base_hour', 'end_longitude'])['target'].mean().to_frame().reset_index()\n",
        "time_end_group.rename(columns={'target':'time_end_mean_target'}, inplace=True)"
      ]
    },
    {
      "cell_type": "code",
      "execution_count": null,
      "metadata": {
        "id": "teCkqk3U3Td_"
      },
      "outputs": [],
      "source": [
        "train = pd.merge(train, time_end_group, on=['base_hour', 'end_longitude'])\n",
        "test = pd.merge(test, time_end_group, how='left',on=['base_hour', 'end_longitude'])"
      ]
    },
    {
      "cell_type": "code",
      "execution_count": null,
      "metadata": {
        "colab": {
          "base_uri": "https://localhost:8080/",
          "height": 424
        },
        "id": "TsfRhK4ytmZI",
        "outputId": "a2d6090b-2bfc-49a3-9026-f07dc971166d"
      },
      "outputs": [
        {
          "data": {
            "text/html": [
              "\n",
              "  <div id=\"df-f2f24334-c43a-4a2d-8668-0a02e11f9181\">\n",
              "    <div class=\"colab-df-container\">\n",
              "      <div>\n",
              "<style scoped>\n",
              "    .dataframe tbody tr th:only-of-type {\n",
              "        vertical-align: middle;\n",
              "    }\n",
              "\n",
              "    .dataframe tbody tr th {\n",
              "        vertical-align: top;\n",
              "    }\n",
              "\n",
              "    .dataframe thead th {\n",
              "        text-align: right;\n",
              "    }\n",
              "</style>\n",
              "<table border=\"1\" class=\"dataframe\">\n",
              "  <thead>\n",
              "    <tr style=\"text-align: right;\">\n",
              "      <th></th>\n",
              "      <th>id</th>\n",
              "      <th>base_hour</th>\n",
              "      <th>end_longitude</th>\n",
              "      <th>time_end_mean_target</th>\n",
              "    </tr>\n",
              "  </thead>\n",
              "  <tbody>\n",
              "    <tr>\n",
              "      <th>0</th>\n",
              "      <td>TEST_000000</td>\n",
              "      <td>17</td>\n",
              "      <td>126.543837</td>\n",
              "      <td>25.538153</td>\n",
              "    </tr>\n",
              "    <tr>\n",
              "      <th>1</th>\n",
              "      <td>TEST_000001</td>\n",
              "      <td>12</td>\n",
              "      <td>126.415840</td>\n",
              "      <td>34.628684</td>\n",
              "    </tr>\n",
              "    <tr>\n",
              "      <th>2</th>\n",
              "      <td>TEST_000002</td>\n",
              "      <td>2</td>\n",
              "      <td>126.474687</td>\n",
              "      <td>61.241237</td>\n",
              "    </tr>\n",
              "    <tr>\n",
              "      <th>3</th>\n",
              "      <td>TEST_000003</td>\n",
              "      <td>23</td>\n",
              "      <td>126.545467</td>\n",
              "      <td>33.411885</td>\n",
              "    </tr>\n",
              "    <tr>\n",
              "      <th>4</th>\n",
              "      <td>TEST_000004</td>\n",
              "      <td>17</td>\n",
              "      <td>126.581230</td>\n",
              "      <td>42.994048</td>\n",
              "    </tr>\n",
              "    <tr>\n",
              "      <th>...</th>\n",
              "      <td>...</td>\n",
              "      <td>...</td>\n",
              "      <td>...</td>\n",
              "      <td>...</td>\n",
              "    </tr>\n",
              "    <tr>\n",
              "      <th>291236</th>\n",
              "      <td>TEST_291236</td>\n",
              "      <td>5</td>\n",
              "      <td>126.460846</td>\n",
              "      <td>48.129412</td>\n",
              "    </tr>\n",
              "    <tr>\n",
              "      <th>291237</th>\n",
              "      <td>TEST_291237</td>\n",
              "      <td>20</td>\n",
              "      <td>126.600332</td>\n",
              "      <td>52.566337</td>\n",
              "    </tr>\n",
              "    <tr>\n",
              "      <th>291238</th>\n",
              "      <td>TEST_291238</td>\n",
              "      <td>11</td>\n",
              "      <td>126.496946</td>\n",
              "      <td>23.668000</td>\n",
              "    </tr>\n",
              "    <tr>\n",
              "      <th>291239</th>\n",
              "      <td>TEST_291239</td>\n",
              "      <td>7</td>\n",
              "      <td>126.507333</td>\n",
              "      <td>25.423581</td>\n",
              "    </tr>\n",
              "    <tr>\n",
              "      <th>291240</th>\n",
              "      <td>TEST_291240</td>\n",
              "      <td>10</td>\n",
              "      <td>126.523503</td>\n",
              "      <td>46.682731</td>\n",
              "    </tr>\n",
              "  </tbody>\n",
              "</table>\n",
              "<p>291241 rows × 4 columns</p>\n",
              "</div>\n",
              "      <button class=\"colab-df-convert\" onclick=\"convertToInteractive('df-f2f24334-c43a-4a2d-8668-0a02e11f9181')\"\n",
              "              title=\"Convert this dataframe to an interactive table.\"\n",
              "              style=\"display:none;\">\n",
              "        \n",
              "  <svg xmlns=\"http://www.w3.org/2000/svg\" height=\"24px\"viewBox=\"0 0 24 24\"\n",
              "       width=\"24px\">\n",
              "    <path d=\"M0 0h24v24H0V0z\" fill=\"none\"/>\n",
              "    <path d=\"M18.56 5.44l.94 2.06.94-2.06 2.06-.94-2.06-.94-.94-2.06-.94 2.06-2.06.94zm-11 1L8.5 8.5l.94-2.06 2.06-.94-2.06-.94L8.5 2.5l-.94 2.06-2.06.94zm10 10l.94 2.06.94-2.06 2.06-.94-2.06-.94-.94-2.06-.94 2.06-2.06.94z\"/><path d=\"M17.41 7.96l-1.37-1.37c-.4-.4-.92-.59-1.43-.59-.52 0-1.04.2-1.43.59L10.3 9.45l-7.72 7.72c-.78.78-.78 2.05 0 2.83L4 21.41c.39.39.9.59 1.41.59.51 0 1.02-.2 1.41-.59l7.78-7.78 2.81-2.81c.8-.78.8-2.07 0-2.86zM5.41 20L4 18.59l7.72-7.72 1.47 1.35L5.41 20z\"/>\n",
              "  </svg>\n",
              "      </button>\n",
              "      \n",
              "  <style>\n",
              "    .colab-df-container {\n",
              "      display:flex;\n",
              "      flex-wrap:wrap;\n",
              "      gap: 12px;\n",
              "    }\n",
              "\n",
              "    .colab-df-convert {\n",
              "      background-color: #E8F0FE;\n",
              "      border: none;\n",
              "      border-radius: 50%;\n",
              "      cursor: pointer;\n",
              "      display: none;\n",
              "      fill: #1967D2;\n",
              "      height: 32px;\n",
              "      padding: 0 0 0 0;\n",
              "      width: 32px;\n",
              "    }\n",
              "\n",
              "    .colab-df-convert:hover {\n",
              "      background-color: #E2EBFA;\n",
              "      box-shadow: 0px 1px 2px rgba(60, 64, 67, 0.3), 0px 1px 3px 1px rgba(60, 64, 67, 0.15);\n",
              "      fill: #174EA6;\n",
              "    }\n",
              "\n",
              "    [theme=dark] .colab-df-convert {\n",
              "      background-color: #3B4455;\n",
              "      fill: #D2E3FC;\n",
              "    }\n",
              "\n",
              "    [theme=dark] .colab-df-convert:hover {\n",
              "      background-color: #434B5C;\n",
              "      box-shadow: 0px 1px 3px 1px rgba(0, 0, 0, 0.15);\n",
              "      filter: drop-shadow(0px 1px 2px rgba(0, 0, 0, 0.3));\n",
              "      fill: #FFFFFF;\n",
              "    }\n",
              "  </style>\n",
              "\n",
              "      <script>\n",
              "        const buttonEl =\n",
              "          document.querySelector('#df-f2f24334-c43a-4a2d-8668-0a02e11f9181 button.colab-df-convert');\n",
              "        buttonEl.style.display =\n",
              "          google.colab.kernel.accessAllowed ? 'block' : 'none';\n",
              "\n",
              "        async function convertToInteractive(key) {\n",
              "          const element = document.querySelector('#df-f2f24334-c43a-4a2d-8668-0a02e11f9181');\n",
              "          const dataTable =\n",
              "            await google.colab.kernel.invokeFunction('convertToInteractive',\n",
              "                                                     [key], {});\n",
              "          if (!dataTable) return;\n",
              "\n",
              "          const docLinkHtml = 'Like what you see? Visit the ' +\n",
              "            '<a target=\"_blank\" href=https://colab.research.google.com/notebooks/data_table.ipynb>data table notebook</a>'\n",
              "            + ' to learn more about interactive tables.';\n",
              "          element.innerHTML = '';\n",
              "          dataTable['output_type'] = 'display_data';\n",
              "          await google.colab.output.renderOutput(dataTable, element);\n",
              "          const docLink = document.createElement('div');\n",
              "          docLink.innerHTML = docLinkHtml;\n",
              "          element.appendChild(docLink);\n",
              "        }\n",
              "      </script>\n",
              "    </div>\n",
              "  </div>\n",
              "  "
            ],
            "text/plain": [
              "                 id  base_hour  end_longitude  time_end_mean_target\n",
              "0       TEST_000000         17     126.543837             25.538153\n",
              "1       TEST_000001         12     126.415840             34.628684\n",
              "2       TEST_000002          2     126.474687             61.241237\n",
              "3       TEST_000003         23     126.545467             33.411885\n",
              "4       TEST_000004         17     126.581230             42.994048\n",
              "...             ...        ...            ...                   ...\n",
              "291236  TEST_291236          5     126.460846             48.129412\n",
              "291237  TEST_291237         20     126.600332             52.566337\n",
              "291238  TEST_291238         11     126.496946             23.668000\n",
              "291239  TEST_291239          7     126.507333             25.423581\n",
              "291240  TEST_291240         10     126.523503             46.682731\n",
              "\n",
              "[291241 rows x 4 columns]"
            ]
          },
          "execution_count": 15,
          "metadata": {},
          "output_type": "execute_result"
        }
      ],
      "source": [
        "test[['id', 'base_hour', 'end_longitude', 'time_end_mean_target']]"
      ]
    },
    {
      "cell_type": "markdown",
      "metadata": {
        "id": "Q0WzyyPslGrO"
      },
      "source": [
        "index가 꼬였는지 확인"
      ]
    },
    {
      "cell_type": "code",
      "execution_count": null,
      "metadata": {
        "colab": {
          "base_uri": "https://localhost:8080/"
        },
        "id": "l6rYtXTptnGh",
        "outputId": "950297ca-e9d2-4aa8-d80c-ac098f5656f5"
      },
      "outputs": [
        {
          "data": {
            "text/plain": [
              "Index(['id', 'base_date', 'day_of_week', 'base_hour', 'road_in_use',\n",
              "       'lane_count', 'road_rating', 'road_name', 'multi_linked',\n",
              "       'connect_code', 'maximum_speed_limit', 'vehicle_restricted',\n",
              "       'weight_restricted', 'height_restricted', 'road_type',\n",
              "       'start_node_name', 'start_latitude', 'start_longitude',\n",
              "       'start_turn_restricted', 'end_node_name', 'end_latitude',\n",
              "       'end_longitude', 'end_turn_restricted', 'lane_count + road_rating',\n",
              "       'lane_count / road_rating', 'dt_date', 'year', 'month', 'day',\n",
              "       'yearmonth', 'distance_lat', 'distance_long', 'distance',\n",
              "       'distance_std', 'mean_target', 'time_mean_target',\n",
              "       'time_end_mean_target'],\n",
              "      dtype='object')"
            ]
          },
          "execution_count": 22,
          "metadata": {},
          "output_type": "execute_result"
        }
      ],
      "source": [
        "test.columns"
      ]
    },
    {
      "cell_type": "code",
      "execution_count": null,
      "metadata": {
        "colab": {
          "base_uri": "https://localhost:8080/"
        },
        "id": "UNRKYAXxlLAt",
        "outputId": "b5b1ec50-0b7d-42aa-c68b-72f517f055a0"
      },
      "outputs": [
        {
          "data": {
            "text/plain": [
              "0         TEST_000000\n",
              "1         TEST_000001\n",
              "2         TEST_000002\n",
              "3         TEST_000003\n",
              "4         TEST_000004\n",
              "             ...     \n",
              "291236    TEST_291236\n",
              "291237    TEST_291237\n",
              "291238    TEST_291238\n",
              "291239    TEST_291239\n",
              "291240    TEST_291240\n",
              "Name: id, Length: 291241, dtype: object"
            ]
          },
          "execution_count": 23,
          "metadata": {},
          "output_type": "execute_result"
        }
      ],
      "source": [
        "test['id']"
      ]
    },
    {
      "cell_type": "markdown",
      "metadata": {
        "id": "oGDRy7n5pyDB"
      },
      "source": [
        "### 데이터셋 늘리기 (6~7월)"
      ]
    },
    {
      "cell_type": "code",
      "execution_count": null,
      "metadata": {
        "id": "EXf928YqIzyw"
      },
      "outputs": [],
      "source": [
        "indices = train[train['yearmonth']>=202206]"
      ]
    },
    {
      "cell_type": "code",
      "execution_count": null,
      "metadata": {
        "id": "BYX_687E5aDL"
      },
      "outputs": [],
      "source": [
        "train = pd.concat([train, indices])"
      ]
    },
    {
      "cell_type": "markdown",
      "metadata": {
        "id": "cwQpk9EwBUqn"
      },
      "source": []
    },
    {
      "cell_type": "code",
      "execution_count": null,
      "metadata": {
        "id": "eNg5MoE-RN4C"
      },
      "outputs": [],
      "source": [
        "def feature_eng(data):\n",
        "    data['lane_count + road_rating'] = data['lane_count'] + data['road_rating']\n",
        "    #data['lane_count / road_rating'] = data['lane_count'] / data['road_rating']\n",
        "    #data.loc[np.isinf(data['lane_count / road_rating']), 'lane_count / road_rating'] = 0\n",
        "    #data['lane_count / road_rating'].fillna(0, inplace=True)\n",
        "feature_eng(train)\n",
        "feature_eng(test)"
      ]
    },
    {
      "cell_type": "code",
      "execution_count": null,
      "metadata": {
        "id": "BP7hhZ7T2AcP"
      },
      "outputs": [],
      "source": [
        "def feature_eng(data):\n",
        "    data['start_turn_restricted + end_turn_restricted'] = data['start_turn_restricted'] + data['end_turn_restricted']\n",
        "    #data['lane_count / road_rating'] = data['start_turn_restricted'] / data['road_rating']\n",
        "    #data.loc[np.isinf(data['lane_count / road_rating']), 'lane_count / road_rating'] = 0\n",
        "    #data['lane_count / road_rating'].fillna(0, inplace=True)\n",
        "feature_eng(train)\n",
        "feature_eng(test)"
      ]
    },
    {
      "cell_type": "markdown",
      "metadata": {
        "id": "_0sqNekLtcyg"
      },
      "source": [
        "학습후 feature importance 출력\n"
      ]
    },
    {
      "cell_type": "code",
      "execution_count": null,
      "metadata": {
        "colab": {
          "base_uri": "https://localhost:8080/"
        },
        "id": "8f5iagpnLzCu",
        "outputId": "8c5fce8b-18da-4fa2-cdf2-2dda1e0301a0"
      },
      "outputs": [
        {
          "data": {
            "text/plain": [
              "Index(['id', 'base_date', 'day_of_week', 'base_hour', 'road_in_use',\n",
              "       'lane_count', 'road_rating', 'road_name', 'multi_linked',\n",
              "       'connect_code', 'maximum_speed_limit', 'vehicle_restricted',\n",
              "       'weight_restricted', 'height_restricted', 'road_type',\n",
              "       'start_node_name', 'start_latitude', 'start_longitude',\n",
              "       'start_turn_restricted', 'end_node_name', 'end_latitude',\n",
              "       'end_longitude', 'end_turn_restricted', 'target',\n",
              "       'lane_count + road_rating', 'lane_count / road_rating', 'dt_date',\n",
              "       'year', 'month', 'day', 'yearmonth', 'distance_lat', 'distance_long',\n",
              "       'distance', 'distance_std', 'mean_target', 'time_mean_target',\n",
              "       'time_end_mean_target'],\n",
              "      dtype='object')"
            ]
          },
          "execution_count": 27,
          "metadata": {},
          "output_type": "execute_result"
        }
      ],
      "source": [
        "train.columns"
      ]
    },
    {
      "cell_type": "code",
      "execution_count": null,
      "metadata": {
        "colab": {
          "base_uri": "https://localhost:8080/",
          "height": 317
        },
        "id": "HtqBWJxO-MBv",
        "outputId": "989b8c7b-a646-486c-aa0f-2af544cc7fae"
      },
      "outputs": [
        {
          "data": {
            "text/html": [
              "\n",
              "  <div id=\"df-6aa4e120-0707-4395-8a8d-35e5c8201dfa\">\n",
              "    <div class=\"colab-df-container\">\n",
              "      <div>\n",
              "<style scoped>\n",
              "    .dataframe tbody tr th:only-of-type {\n",
              "        vertical-align: middle;\n",
              "    }\n",
              "\n",
              "    .dataframe tbody tr th {\n",
              "        vertical-align: top;\n",
              "    }\n",
              "\n",
              "    .dataframe thead th {\n",
              "        text-align: right;\n",
              "    }\n",
              "</style>\n",
              "<table border=\"1\" class=\"dataframe\">\n",
              "  <thead>\n",
              "    <tr style=\"text-align: right;\">\n",
              "      <th></th>\n",
              "      <th>id</th>\n",
              "      <th>base_date</th>\n",
              "      <th>day_of_week</th>\n",
              "      <th>base_hour</th>\n",
              "      <th>road_in_use</th>\n",
              "      <th>lane_count</th>\n",
              "      <th>road_rating</th>\n",
              "      <th>road_name</th>\n",
              "      <th>multi_linked</th>\n",
              "      <th>connect_code</th>\n",
              "      <th>...</th>\n",
              "      <th>day</th>\n",
              "      <th>yearmonth</th>\n",
              "      <th>distance_lat</th>\n",
              "      <th>distance_long</th>\n",
              "      <th>distance</th>\n",
              "      <th>distance_std</th>\n",
              "      <th>mean_target</th>\n",
              "      <th>time_mean_target</th>\n",
              "      <th>time_end_mean_target</th>\n",
              "      <th>start_turn_restricted + end_turn_restricted</th>\n",
              "    </tr>\n",
              "  </thead>\n",
              "  <tbody>\n",
              "    <tr>\n",
              "      <th>0</th>\n",
              "      <td>TRAIN_0000000</td>\n",
              "      <td>20220623</td>\n",
              "      <td>3</td>\n",
              "      <td>17</td>\n",
              "      <td>0</td>\n",
              "      <td>1</td>\n",
              "      <td>106</td>\n",
              "      <td>46</td>\n",
              "      <td>0</td>\n",
              "      <td>0</td>\n",
              "      <td>...</td>\n",
              "      <td>23</td>\n",
              "      <td>20226</td>\n",
              "      <td>0.000001</td>\n",
              "      <td>0.000277</td>\n",
              "      <td>0.000277</td>\n",
              "      <td>3.357067</td>\n",
              "      <td>51.75691</td>\n",
              "      <td>38.473363</td>\n",
              "      <td>50.865471</td>\n",
              "      <td>0</td>\n",
              "    </tr>\n",
              "    <tr>\n",
              "      <th>1</th>\n",
              "      <td>TRAIN_0045467</td>\n",
              "      <td>20210913</td>\n",
              "      <td>0</td>\n",
              "      <td>17</td>\n",
              "      <td>0</td>\n",
              "      <td>1</td>\n",
              "      <td>106</td>\n",
              "      <td>46</td>\n",
              "      <td>0</td>\n",
              "      <td>0</td>\n",
              "      <td>...</td>\n",
              "      <td>13</td>\n",
              "      <td>20219</td>\n",
              "      <td>0.000001</td>\n",
              "      <td>0.000277</td>\n",
              "      <td>0.000277</td>\n",
              "      <td>3.357067</td>\n",
              "      <td>51.75691</td>\n",
              "      <td>38.473363</td>\n",
              "      <td>50.865471</td>\n",
              "      <td>0</td>\n",
              "    </tr>\n",
              "    <tr>\n",
              "      <th>2</th>\n",
              "      <td>TRAIN_0052833</td>\n",
              "      <td>20210904</td>\n",
              "      <td>5</td>\n",
              "      <td>17</td>\n",
              "      <td>0</td>\n",
              "      <td>1</td>\n",
              "      <td>106</td>\n",
              "      <td>46</td>\n",
              "      <td>0</td>\n",
              "      <td>0</td>\n",
              "      <td>...</td>\n",
              "      <td>4</td>\n",
              "      <td>20219</td>\n",
              "      <td>0.000001</td>\n",
              "      <td>0.000277</td>\n",
              "      <td>0.000277</td>\n",
              "      <td>3.357067</td>\n",
              "      <td>51.75691</td>\n",
              "      <td>38.473363</td>\n",
              "      <td>50.865471</td>\n",
              "      <td>0</td>\n",
              "    </tr>\n",
              "    <tr>\n",
              "      <th>3</th>\n",
              "      <td>TRAIN_0067349</td>\n",
              "      <td>20220220</td>\n",
              "      <td>6</td>\n",
              "      <td>17</td>\n",
              "      <td>0</td>\n",
              "      <td>1</td>\n",
              "      <td>106</td>\n",
              "      <td>46</td>\n",
              "      <td>0</td>\n",
              "      <td>0</td>\n",
              "      <td>...</td>\n",
              "      <td>20</td>\n",
              "      <td>20222</td>\n",
              "      <td>0.000001</td>\n",
              "      <td>0.000277</td>\n",
              "      <td>0.000277</td>\n",
              "      <td>3.357067</td>\n",
              "      <td>51.75691</td>\n",
              "      <td>38.473363</td>\n",
              "      <td>50.865471</td>\n",
              "      <td>0</td>\n",
              "    </tr>\n",
              "    <tr>\n",
              "      <th>4</th>\n",
              "      <td>TRAIN_0079551</td>\n",
              "      <td>20211212</td>\n",
              "      <td>6</td>\n",
              "      <td>17</td>\n",
              "      <td>0</td>\n",
              "      <td>1</td>\n",
              "      <td>106</td>\n",
              "      <td>46</td>\n",
              "      <td>0</td>\n",
              "      <td>0</td>\n",
              "      <td>...</td>\n",
              "      <td>12</td>\n",
              "      <td>202112</td>\n",
              "      <td>0.000001</td>\n",
              "      <td>0.000277</td>\n",
              "      <td>0.000277</td>\n",
              "      <td>3.357067</td>\n",
              "      <td>51.75691</td>\n",
              "      <td>38.473363</td>\n",
              "      <td>50.865471</td>\n",
              "      <td>0</td>\n",
              "    </tr>\n",
              "  </tbody>\n",
              "</table>\n",
              "<p>5 rows × 39 columns</p>\n",
              "</div>\n",
              "      <button class=\"colab-df-convert\" onclick=\"convertToInteractive('df-6aa4e120-0707-4395-8a8d-35e5c8201dfa')\"\n",
              "              title=\"Convert this dataframe to an interactive table.\"\n",
              "              style=\"display:none;\">\n",
              "        \n",
              "  <svg xmlns=\"http://www.w3.org/2000/svg\" height=\"24px\"viewBox=\"0 0 24 24\"\n",
              "       width=\"24px\">\n",
              "    <path d=\"M0 0h24v24H0V0z\" fill=\"none\"/>\n",
              "    <path d=\"M18.56 5.44l.94 2.06.94-2.06 2.06-.94-2.06-.94-.94-2.06-.94 2.06-2.06.94zm-11 1L8.5 8.5l.94-2.06 2.06-.94-2.06-.94L8.5 2.5l-.94 2.06-2.06.94zm10 10l.94 2.06.94-2.06 2.06-.94-2.06-.94-.94-2.06-.94 2.06-2.06.94z\"/><path d=\"M17.41 7.96l-1.37-1.37c-.4-.4-.92-.59-1.43-.59-.52 0-1.04.2-1.43.59L10.3 9.45l-7.72 7.72c-.78.78-.78 2.05 0 2.83L4 21.41c.39.39.9.59 1.41.59.51 0 1.02-.2 1.41-.59l7.78-7.78 2.81-2.81c.8-.78.8-2.07 0-2.86zM5.41 20L4 18.59l7.72-7.72 1.47 1.35L5.41 20z\"/>\n",
              "  </svg>\n",
              "      </button>\n",
              "      \n",
              "  <style>\n",
              "    .colab-df-container {\n",
              "      display:flex;\n",
              "      flex-wrap:wrap;\n",
              "      gap: 12px;\n",
              "    }\n",
              "\n",
              "    .colab-df-convert {\n",
              "      background-color: #E8F0FE;\n",
              "      border: none;\n",
              "      border-radius: 50%;\n",
              "      cursor: pointer;\n",
              "      display: none;\n",
              "      fill: #1967D2;\n",
              "      height: 32px;\n",
              "      padding: 0 0 0 0;\n",
              "      width: 32px;\n",
              "    }\n",
              "\n",
              "    .colab-df-convert:hover {\n",
              "      background-color: #E2EBFA;\n",
              "      box-shadow: 0px 1px 2px rgba(60, 64, 67, 0.3), 0px 1px 3px 1px rgba(60, 64, 67, 0.15);\n",
              "      fill: #174EA6;\n",
              "    }\n",
              "\n",
              "    [theme=dark] .colab-df-convert {\n",
              "      background-color: #3B4455;\n",
              "      fill: #D2E3FC;\n",
              "    }\n",
              "\n",
              "    [theme=dark] .colab-df-convert:hover {\n",
              "      background-color: #434B5C;\n",
              "      box-shadow: 0px 1px 3px 1px rgba(0, 0, 0, 0.15);\n",
              "      filter: drop-shadow(0px 1px 2px rgba(0, 0, 0, 0.3));\n",
              "      fill: #FFFFFF;\n",
              "    }\n",
              "  </style>\n",
              "\n",
              "      <script>\n",
              "        const buttonEl =\n",
              "          document.querySelector('#df-6aa4e120-0707-4395-8a8d-35e5c8201dfa button.colab-df-convert');\n",
              "        buttonEl.style.display =\n",
              "          google.colab.kernel.accessAllowed ? 'block' : 'none';\n",
              "\n",
              "        async function convertToInteractive(key) {\n",
              "          const element = document.querySelector('#df-6aa4e120-0707-4395-8a8d-35e5c8201dfa');\n",
              "          const dataTable =\n",
              "            await google.colab.kernel.invokeFunction('convertToInteractive',\n",
              "                                                     [key], {});\n",
              "          if (!dataTable) return;\n",
              "\n",
              "          const docLinkHtml = 'Like what you see? Visit the ' +\n",
              "            '<a target=\"_blank\" href=https://colab.research.google.com/notebooks/data_table.ipynb>data table notebook</a>'\n",
              "            + ' to learn more about interactive tables.';\n",
              "          element.innerHTML = '';\n",
              "          dataTable['output_type'] = 'display_data';\n",
              "          await google.colab.output.renderOutput(dataTable, element);\n",
              "          const docLink = document.createElement('div');\n",
              "          docLink.innerHTML = docLinkHtml;\n",
              "          element.appendChild(docLink);\n",
              "        }\n",
              "      </script>\n",
              "    </div>\n",
              "  </div>\n",
              "  "
            ],
            "text/plain": [
              "              id base_date  day_of_week  base_hour  road_in_use  lane_count  \\\n",
              "0  TRAIN_0000000  20220623            3         17            0           1   \n",
              "1  TRAIN_0045467  20210913            0         17            0           1   \n",
              "2  TRAIN_0052833  20210904            5         17            0           1   \n",
              "3  TRAIN_0067349  20220220            6         17            0           1   \n",
              "4  TRAIN_0079551  20211212            6         17            0           1   \n",
              "\n",
              "   road_rating  road_name  multi_linked  connect_code  ...  day  yearmonth  \\\n",
              "0          106         46             0             0  ...   23      20226   \n",
              "1          106         46             0             0  ...   13      20219   \n",
              "2          106         46             0             0  ...    4      20219   \n",
              "3          106         46             0             0  ...   20      20222   \n",
              "4          106         46             0             0  ...   12     202112   \n",
              "\n",
              "   distance_lat  distance_long  distance  distance_std  mean_target  \\\n",
              "0      0.000001       0.000277  0.000277      3.357067     51.75691   \n",
              "1      0.000001       0.000277  0.000277      3.357067     51.75691   \n",
              "2      0.000001       0.000277  0.000277      3.357067     51.75691   \n",
              "3      0.000001       0.000277  0.000277      3.357067     51.75691   \n",
              "4      0.000001       0.000277  0.000277      3.357067     51.75691   \n",
              "\n",
              "   time_mean_target  time_end_mean_target  \\\n",
              "0         38.473363             50.865471   \n",
              "1         38.473363             50.865471   \n",
              "2         38.473363             50.865471   \n",
              "3         38.473363             50.865471   \n",
              "4         38.473363             50.865471   \n",
              "\n",
              "   start_turn_restricted + end_turn_restricted  \n",
              "0                                            0  \n",
              "1                                            0  \n",
              "2                                            0  \n",
              "3                                            0  \n",
              "4                                            0  \n",
              "\n",
              "[5 rows x 39 columns]"
            ]
          },
          "execution_count": 40,
          "metadata": {},
          "output_type": "execute_result"
        }
      ],
      "source": [
        "train.head()"
      ]
    },
    {
      "cell_type": "markdown",
      "metadata": {
        "id": "lbBj_mk20o5D"
      },
      "source": [
        "\n",
        "### train, val 생성"
      ]
    },
    {
      "cell_type": "markdown",
      "metadata": {
        "id": "8TlgMAyH2RMQ"
      },
      "source": [
        "\n",
        "모델: XGB, LGBM, CatBoost, HGBM\n",
        "pycaret\n",
        "stacking ensemble"
      ]
    },
    {
      "cell_type": "code",
      "execution_count": null,
      "metadata": {
        "colab": {
          "base_uri": "https://localhost:8080/"
        },
        "id": "-x8AVCwFY446",
        "outputId": "bfb7f3cc-dbc6-4168-e5a7-94adac5c24f4"
      },
      "outputs": [
        {
          "name": "stdout",
          "output_type": "stream",
          "text": [
            "(5466049, 18)\n",
            "(5466049,)\n"
          ]
        }
      ],
      "source": [
        "from sklearn.metrics import mean_absolute_error\n",
        "from xgboost import XGBRegressor\n",
        "from sklearn.ensemble import GradientBoostingRegressor, RandomForestRegressor, HistGradientBoostingRegressor, ExtraTreesRegressor\n",
        "from sklearn.model_selection import KFold, cross_val_score\n",
        "from sklearn.model_selection import train_test_split\n",
        "seed = 42\n",
        "y_train = train['target']\n",
        "X_train = train[[ 'yearmonth', 'day_of_week', 'base_hour',\n",
        "                  'weight_restricted', 'lane_count',\n",
        "                  'maximum_speed_limit', 'road_type', 'road_rating',\n",
        "                  'road_name', 'start_node_name', 'end_node_name',\n",
        "                  'start_latitude', 'start_longitude', 'start_turn_restricted', 'end_latitude', 'end_longitude', 'end_turn_restricted', 'distance_std',\n",
        "                  ]]\n",
        "#X_train['base_date'] = X_train['base_date'].astype(int) \n",
        "X_test = test[[   'yearmonth', 'day_of_week', 'base_hour',\n",
        "                  'weight_restricted', 'lane_count', \n",
        "                  'maximum_speed_limit', 'road_type', 'road_rating', \n",
        "                  'road_name', 'start_node_name', 'end_node_name',\n",
        "                  'start_latitude', 'start_longitude', 'start_turn_restricted', 'end_latitude', 'end_longitude', 'end_turn_restricted', 'distance_std',\n",
        "              ]]\n",
        "print(X_train.shape)\n",
        "print(y_train.shape)\n",
        "#X_train, X_val, y_train, y_val = train_test_split(X_train, y_train, random_state=seed, test_size=0.2)"
      ]
    },
    {
      "cell_type": "markdown",
      "metadata": {
        "id": "iPRC0DJ8-X6w"
      },
      "source": [
        "### HGB"
      ]
    },
    {
      "cell_type": "code",
      "execution_count": null,
      "metadata": {
        "id": "NsWwGp0bf-ml"
      },
      "outputs": [],
      "source": [
        "from sklearn.ensemble import GradientBoostingRegressor, RandomForestRegressor, HistGradientBoostingRegressor, ExtraTreesRegressor\n",
        "hgb_model = HistGradientBoostingRegressor(loss='absolute_error', learning_rate=0.7, max_iter=2000, verbose=1)\n",
        "hgb_model.fit(X_train, y_train)\n",
        "pred = hgb_model.predict(X_val)\n",
        "mean_absolute_error(y_val, pred)"
      ]
    },
    {
      "cell_type": "code",
      "execution_count": null,
      "metadata": {
        "colab": {
          "base_uri": "https://localhost:8080/"
        },
        "id": "9HXhSjAOtaHM",
        "outputId": "cf368fa3-26c6-44e3-8970-5acfdffc1439"
      },
      "outputs": [
        {
          "name": "stdout",
          "output_type": "stream",
          "text": [
            "[07:52:11] WARNING: /workspace/src/objective/regression_obj.cu:152: reg:linear is now deprecated in favor of reg:squarederror.\n",
            "[07:52:12] WARNING: /workspace/src/learner.cc:686: Tree method is automatically selected to be 'approx' for faster speed. To use old behavior (exact greedy algorithm on single machine), set tree_method to 'exact'.\n"
          ]
        },
        {
          "data": {
            "text/plain": [
              "5.0260056986744965"
            ]
          },
          "execution_count": 18,
          "metadata": {},
          "output_type": "execute_result"
        }
      ],
      "source": [
        "xgb_model = XGBRegressor(n_estimators=500, random_state=seed,\n",
        "                         max_depth=6,  objective='reg:squarederror', \n",
        "                         )#tree_method='gpu_hist',n_jobs=8)\n",
        "xgb_model.fit(X_train, y_train, )\n",
        "pred = xgb_model.predict(X_val)\n",
        "mean_absolute_error(y_val, pred)"
      ]
    },
    {
      "cell_type": "code",
      "execution_count": null,
      "metadata": {
        "colab": {
          "base_uri": "https://localhost:8080/",
          "height": 35
        },
        "id": "FqgiJfaZ0BP4",
        "outputId": "c3193a78-f16a-48da-9f17-d4c0ed841f5f"
      },
      "outputs": [
        {
          "data": {
            "application/vnd.google.colaboratory.intrinsic+json": {
              "type": "string"
            },
            "text/plain": [
              "'1.21.6'"
            ]
          },
          "execution_count": 20,
          "metadata": {},
          "output_type": "execute_result"
        }
      ],
      "source": [
        "np.__version__"
      ]
    },
    {
      "cell_type": "code",
      "execution_count": null,
      "metadata": {
        "id": "ZhQbFGsWycnq"
      },
      "outputs": [],
      "source": [
        "pip install flaml"
      ]
    },
    {
      "cell_type": "code",
      "execution_count": null,
      "metadata": {
        "id": "4CmqOxmBxHi_"
      },
      "outputs": [],
      "source": [
        "pip install catboost"
      ]
    },
    {
      "cell_type": "code",
      "execution_count": null,
      "metadata": {
        "id": "wI4dXFYOxITe"
      },
      "outputs": [],
      "source": [
        "pip install thunderGBM"
      ]
    },
    {
      "cell_type": "code",
      "execution_count": null,
      "metadata": {
        "id": "85Nr3de0BjM_"
      },
      "outputs": [],
      "source": []
    },
    {
      "cell_type": "code",
      "execution_count": null,
      "metadata": {
        "id": "dwj_NnaeyYj1"
      },
      "outputs": [],
      "source": [
        "from flaml import AutoML\n",
        "automl = AutoML()\n",
        "settings = {\n",
        "    'time_budget':60,\n",
        "    'metric':'mae',\n",
        "    'estimator_list':['xgboost'],\n",
        "    'task': 'regression',\n",
        "    'seed': seed\n",
        "}\n",
        "automl.fit(X_train=X_train, y_train=y_train, **settings)"
      ]
    },
    {
      "cell_type": "code",
      "execution_count": null,
      "metadata": {
        "id": "YiIOyaD5xWup"
      },
      "outputs": [],
      "source": [
        "from sklearn.ensemble import GradientBoostingRegressor, RandomForestRegressor, \\\n",
        "                             HistGradientBoostingRegressor, ExtraTreesRegressor\n"
      ]
    },
    {
      "cell_type": "code",
      "execution_count": null,
      "metadata": {
        "id": "kdQQ_2qxxINr"
      },
      "outputs": [],
      "source": [
        "from catboost import CatBoostRegressor, Pool\n",
        "\n",
        "model = CatBoostRegressor(loss_function='MAE', iterations=40000, learning_rate=1, \n",
        "                          task_type='GPU', metric_period=50, random_state=42, eval_fraction=0.2)\n",
        "model.fit(X_train, y_train)"
      ]
    },
    {
      "cell_type": "code",
      "execution_count": null,
      "metadata": {
        "id": "mDiIclR3FKI3"
      },
      "outputs": [],
      "source": [
        "# max_depth랑 learning rate 튜닝 필요\n",
        "LR = lgb.LGBMRegressor(random_state=seed, max_depth=10, n_estimators=2000).fit(X_train, y_train)\n",
        "#pred = LR.predict(X_val)\n",
        "#mean_absolute_error(y_val, pred)\n"
      ]
    },
    {
      "cell_type": "code",
      "execution_count": null,
      "metadata": {
        "id": "eEeKNdR4Vu09"
      },
      "outputs": [],
      "source": []
    },
    {
      "cell_type": "code",
      "execution_count": null,
      "metadata": {
        "id": "lyAwjj7h3dIM"
      },
      "outputs": [],
      "source": [
        "LR = lgb.LGBMRegressor(random_state=seed, n_estimators=1000).fit(X_train, y_train)\n",
        "pred = LR.predict(X_val)\n",
        "mean_absolute_error(y_val, pred)\n"
      ]
    },
    {
      "cell_type": "code",
      "execution_count": null,
      "metadata": {
        "colab": {
          "base_uri": "https://localhost:8080/"
        },
        "id": "bVAdzg9j1-nX",
        "outputId": "c4430a2d-f466-419a-b4a4-b433de8813b7"
      },
      "outputs": [
        {
          "data": {
            "text/plain": [
              "3.016998001533587"
            ]
          },
          "execution_count": 46,
          "metadata": {},
          "output_type": "execute_result"
        }
      ],
      "source": [
        "LR = lgb.LGBMRegressor(random_state=seed, max_depth=10, n_estimators=10000).fit(X_train, y_train)\n",
        "pred = LR.predict(X_val)\n",
        "mean_absolute_error(y_val, pred)"
      ]
    },
    {
      "cell_type": "code",
      "execution_count": null,
      "metadata": {
        "id": "iSL3nv0aBuHy"
      },
      "outputs": [],
      "source": [
        "model = XGBRegressor(random_state=seed, max_depth=6, n_estimators=200, objective='reg:squarederror', tree_method='gpu_hist')\n",
        "model.fit(X_train, y_train)\n",
        "pred = model.predict(X_train)\n",
        "mean_absolute_error(y_train, pred)"
      ]
    },
    {
      "cell_type": "code",
      "execution_count": null,
      "metadata": {
        "id": "GwjBadKFkoBT"
      },
      "outputs": [],
      "source": [
        "LR = lgb.LGBMRegressor(random_state=seed, n_estimators=5000).fit(X_train, y_train) #\n",
        "# pred = LR.predict(X_train)\n",
        "# mean_absolute_error(y_train, pred)"
      ]
    },
    {
      "cell_type": "markdown",
      "metadata": {
        "id": "oWwanl1a9GCo"
      },
      "source": [
        "### 제출파일 생성"
      ]
    },
    {
      "cell_type": "code",
      "execution_count": null,
      "metadata": {
        "id": "BBLesORGaYPn"
      },
      "outputs": [],
      "source": [
        "# LGBM\n",
        "LR_pred = LR.predict(X_test)\n",
        "# sample_submission = pd.read_csv(join(base_path, 'sample_submission.csv'))\n",
        "# sample_submission['target'] = LR_pred\n",
        "# sample_submission.to_csv(\"./submit.csv\", index = False)"
      ]
    },
    {
      "cell_type": "markdown",
      "metadata": {
        "id": "_OD8vHffcKJ4"
      },
      "source": [
        "#### XGB"
      ]
    },
    {
      "cell_type": "code",
      "execution_count": null,
      "metadata": {
        "colab": {
          "base_uri": "https://localhost:8080/",
          "height": 396
        },
        "id": "NZf5HU75h1ZU",
        "outputId": "16abdfa2-6c3b-420b-9812-b604715feca1"
      },
      "outputs": [
        {
          "ename": "ValueError",
          "evalue": "ignored",
          "output_type": "error",
          "traceback": [
            "\u001b[0;31m---------------------------------------------------------------------------\u001b[0m",
            "\u001b[0;31mValueError\u001b[0m                                Traceback (most recent call last)",
            "\u001b[0;32m<ipython-input-40-3063fdb6fed7>\u001b[0m in \u001b[0;36m<module>\u001b[0;34m\u001b[0m\n\u001b[1;32m      2\u001b[0m \u001b[0;32mimport\u001b[0m \u001b[0mxgboost\u001b[0m \u001b[0;32mas\u001b[0m \u001b[0mxgb\u001b[0m\u001b[0;34m\u001b[0m\u001b[0;34m\u001b[0m\u001b[0m\n\u001b[1;32m      3\u001b[0m \u001b[0mdtrain\u001b[0m \u001b[0;34m=\u001b[0m \u001b[0mxgb\u001b[0m\u001b[0;34m.\u001b[0m\u001b[0mDMatrix\u001b[0m\u001b[0;34m(\u001b[0m\u001b[0mX_train\u001b[0m\u001b[0;34m,\u001b[0m \u001b[0mlabel\u001b[0m\u001b[0;34m=\u001b[0m\u001b[0my_train\u001b[0m\u001b[0;34m)\u001b[0m\u001b[0;34m\u001b[0m\u001b[0;34m\u001b[0m\u001b[0m\n\u001b[0;32m----> 4\u001b[0;31m \u001b[0mdtest\u001b[0m \u001b[0;34m=\u001b[0m \u001b[0mxgb\u001b[0m\u001b[0;34m.\u001b[0m\u001b[0mDMatrix\u001b[0m\u001b[0;34m(\u001b[0m\u001b[0mtest\u001b[0m\u001b[0;34m)\u001b[0m\u001b[0;34m\u001b[0m\u001b[0;34m\u001b[0m\u001b[0m\n\u001b[0m",
            "\u001b[0;32m/usr/local/lib/python3.7/dist-packages/xgboost/core.py\u001b[0m in \u001b[0;36m__init__\u001b[0;34m(self, data, label, missing, weight, silent, feature_names, feature_types, nthread)\u001b[0m\n\u001b[1;32m    378\u001b[0m         data, feature_names, feature_types = _maybe_pandas_data(data,\n\u001b[1;32m    379\u001b[0m                                                                 \u001b[0mfeature_names\u001b[0m\u001b[0;34m,\u001b[0m\u001b[0;34m\u001b[0m\u001b[0;34m\u001b[0m\u001b[0m\n\u001b[0;32m--> 380\u001b[0;31m                                                                 feature_types)\n\u001b[0m\u001b[1;32m    381\u001b[0m \u001b[0;34m\u001b[0m\u001b[0m\n\u001b[1;32m    382\u001b[0m         data, feature_names, feature_types = _maybe_dt_data(data,\n",
            "\u001b[0;32m/usr/local/lib/python3.7/dist-packages/xgboost/core.py\u001b[0m in \u001b[0;36m_maybe_pandas_data\u001b[0;34m(data, feature_names, feature_types)\u001b[0m\n\u001b[1;32m    237\u001b[0m         msg = \"\"\"DataFrame.dtypes for data must be int, float or bool.\n\u001b[1;32m    238\u001b[0m                 Did not expect the data types in fields \"\"\"\n\u001b[0;32m--> 239\u001b[0;31m         \u001b[0;32mraise\u001b[0m \u001b[0mValueError\u001b[0m\u001b[0;34m(\u001b[0m\u001b[0mmsg\u001b[0m \u001b[0;34m+\u001b[0m \u001b[0;34m', '\u001b[0m\u001b[0;34m.\u001b[0m\u001b[0mjoin\u001b[0m\u001b[0;34m(\u001b[0m\u001b[0mbad_fields\u001b[0m\u001b[0;34m)\u001b[0m\u001b[0;34m)\u001b[0m\u001b[0;34m\u001b[0m\u001b[0;34m\u001b[0m\u001b[0m\n\u001b[0m\u001b[1;32m    240\u001b[0m \u001b[0;34m\u001b[0m\u001b[0m\n\u001b[1;32m    241\u001b[0m     \u001b[0;32mif\u001b[0m \u001b[0mfeature_names\u001b[0m \u001b[0;32mis\u001b[0m \u001b[0;32mNone\u001b[0m\u001b[0;34m:\u001b[0m\u001b[0;34m\u001b[0m\u001b[0;34m\u001b[0m\u001b[0m\n",
            "\u001b[0;31mValueError\u001b[0m: DataFrame.dtypes for data must be int, float or bool.\n                Did not expect the data types in fields id, base_date, dt_date"
          ]
        }
      ],
      "source": [
        "# XGB\n",
        "import xgboost as xgb \n",
        "dtrain = xgb.DMatrix(X_train, label=y_train)\n",
        "dtest = xgb.DMatrix(X_test)"
      ]
    },
    {
      "cell_type": "code",
      "execution_count": null,
      "metadata": {
        "id": "sz3BN8OwOh8M"
      },
      "outputs": [],
      "source": [
        "# params = {'max_depth':7,\n",
        "#           'eta':1,\n",
        "#           'silent':1,\n",
        "#           'objective':'reg:linear',\n",
        "#           'eval_metric':'rmse',\n",
        "#           'learning_rate':0.05,\n",
        "#           'n_estimators':2000\n",
        "#          }\n",
        "# num_rounds = 50"
      ]
    },
    {
      "cell_type": "code",
      "execution_count": null,
      "metadata": {
        "colab": {
          "base_uri": "https://localhost:8080/",
          "height": 396
        },
        "id": "nrkj5F-XOird",
        "outputId": "64ab1697-d453-4745-8ca5-d8629028c57d"
      },
      "outputs": [
        {
          "ename": "KeyboardInterrupt",
          "evalue": "ignored",
          "output_type": "error",
          "traceback": [
            "\u001b[0;31m---------------------------------------------------------------------------\u001b[0m",
            "\u001b[0;31mKeyboardInterrupt\u001b[0m                         Traceback (most recent call last)",
            "\u001b[0;32m<ipython-input-43-b9bb8ff3547b>\u001b[0m in \u001b[0;36m<module>\u001b[0;34m\u001b[0m\n\u001b[0;32m----> 1\u001b[0;31m \u001b[0mxb\u001b[0m \u001b[0;34m=\u001b[0m \u001b[0mxgb\u001b[0m\u001b[0;34m.\u001b[0m\u001b[0mtrain\u001b[0m\u001b[0;34m(\u001b[0m\u001b[0mparams\u001b[0m\u001b[0;34m,\u001b[0m \u001b[0mdtrain\u001b[0m\u001b[0;34m,\u001b[0m \u001b[0mnum_rounds\u001b[0m\u001b[0;34m)\u001b[0m\u001b[0;34m\u001b[0m\u001b[0;34m\u001b[0m\u001b[0m\n\u001b[0m\u001b[1;32m      2\u001b[0m \u001b[0my_pred_xgb\u001b[0m \u001b[0;34m=\u001b[0m \u001b[0mxb\u001b[0m\u001b[0;34m.\u001b[0m\u001b[0mpredict\u001b[0m\u001b[0;34m(\u001b[0m\u001b[0mdtest\u001b[0m\u001b[0;34m)\u001b[0m\u001b[0;34m\u001b[0m\u001b[0;34m\u001b[0m\u001b[0m\n\u001b[1;32m      3\u001b[0m \u001b[0mprint\u001b[0m\u001b[0;34m(\u001b[0m\u001b[0my_pred_xgb\u001b[0m\u001b[0;34m)\u001b[0m\u001b[0;34m\u001b[0m\u001b[0;34m\u001b[0m\u001b[0m\n",
            "\u001b[0;32m/usr/local/lib/python3.7/dist-packages/xgboost/training.py\u001b[0m in \u001b[0;36mtrain\u001b[0;34m(params, dtrain, num_boost_round, evals, obj, feval, maximize, early_stopping_rounds, evals_result, verbose_eval, xgb_model, callbacks, learning_rates)\u001b[0m\n\u001b[1;32m    214\u001b[0m                            \u001b[0mevals\u001b[0m\u001b[0;34m=\u001b[0m\u001b[0mevals\u001b[0m\u001b[0;34m,\u001b[0m\u001b[0;34m\u001b[0m\u001b[0;34m\u001b[0m\u001b[0m\n\u001b[1;32m    215\u001b[0m                            \u001b[0mobj\u001b[0m\u001b[0;34m=\u001b[0m\u001b[0mobj\u001b[0m\u001b[0;34m,\u001b[0m \u001b[0mfeval\u001b[0m\u001b[0;34m=\u001b[0m\u001b[0mfeval\u001b[0m\u001b[0;34m,\u001b[0m\u001b[0;34m\u001b[0m\u001b[0;34m\u001b[0m\u001b[0m\n\u001b[0;32m--> 216\u001b[0;31m                            xgb_model=xgb_model, callbacks=callbacks)\n\u001b[0m\u001b[1;32m    217\u001b[0m \u001b[0;34m\u001b[0m\u001b[0m\n\u001b[1;32m    218\u001b[0m \u001b[0;34m\u001b[0m\u001b[0m\n",
            "\u001b[0;32m/usr/local/lib/python3.7/dist-packages/xgboost/training.py\u001b[0m in \u001b[0;36m_train_internal\u001b[0;34m(params, dtrain, num_boost_round, evals, obj, feval, xgb_model, callbacks)\u001b[0m\n\u001b[1;32m     72\u001b[0m         \u001b[0;31m# Skip the first update if it is a recovery step.\u001b[0m\u001b[0;34m\u001b[0m\u001b[0;34m\u001b[0m\u001b[0;34m\u001b[0m\u001b[0m\n\u001b[1;32m     73\u001b[0m         \u001b[0;32mif\u001b[0m \u001b[0mversion\u001b[0m \u001b[0;34m%\u001b[0m \u001b[0;36m2\u001b[0m \u001b[0;34m==\u001b[0m \u001b[0;36m0\u001b[0m\u001b[0;34m:\u001b[0m\u001b[0;34m\u001b[0m\u001b[0;34m\u001b[0m\u001b[0m\n\u001b[0;32m---> 74\u001b[0;31m             \u001b[0mbst\u001b[0m\u001b[0;34m.\u001b[0m\u001b[0mupdate\u001b[0m\u001b[0;34m(\u001b[0m\u001b[0mdtrain\u001b[0m\u001b[0;34m,\u001b[0m \u001b[0mi\u001b[0m\u001b[0;34m,\u001b[0m \u001b[0mobj\u001b[0m\u001b[0;34m)\u001b[0m\u001b[0;34m\u001b[0m\u001b[0;34m\u001b[0m\u001b[0m\n\u001b[0m\u001b[1;32m     75\u001b[0m             \u001b[0mbst\u001b[0m\u001b[0;34m.\u001b[0m\u001b[0msave_rabit_checkpoint\u001b[0m\u001b[0;34m(\u001b[0m\u001b[0;34m)\u001b[0m\u001b[0;34m\u001b[0m\u001b[0;34m\u001b[0m\u001b[0m\n\u001b[1;32m     76\u001b[0m             \u001b[0mversion\u001b[0m \u001b[0;34m+=\u001b[0m \u001b[0;36m1\u001b[0m\u001b[0;34m\u001b[0m\u001b[0;34m\u001b[0m\u001b[0m\n",
            "\u001b[0;32m/usr/local/lib/python3.7/dist-packages/xgboost/core.py\u001b[0m in \u001b[0;36mupdate\u001b[0;34m(self, dtrain, iteration, fobj)\u001b[0m\n\u001b[1;32m   1107\u001b[0m         \u001b[0;32mif\u001b[0m \u001b[0mfobj\u001b[0m \u001b[0;32mis\u001b[0m \u001b[0;32mNone\u001b[0m\u001b[0;34m:\u001b[0m\u001b[0;34m\u001b[0m\u001b[0;34m\u001b[0m\u001b[0m\n\u001b[1;32m   1108\u001b[0m             _check_call(_LIB.XGBoosterUpdateOneIter(self.handle, ctypes.c_int(iteration),\n\u001b[0;32m-> 1109\u001b[0;31m                                                     dtrain.handle))\n\u001b[0m\u001b[1;32m   1110\u001b[0m         \u001b[0;32melse\u001b[0m\u001b[0;34m:\u001b[0m\u001b[0;34m\u001b[0m\u001b[0;34m\u001b[0m\u001b[0m\n\u001b[1;32m   1111\u001b[0m             \u001b[0mpred\u001b[0m \u001b[0;34m=\u001b[0m \u001b[0mself\u001b[0m\u001b[0;34m.\u001b[0m\u001b[0mpredict\u001b[0m\u001b[0;34m(\u001b[0m\u001b[0mdtrain\u001b[0m\u001b[0;34m)\u001b[0m\u001b[0;34m\u001b[0m\u001b[0;34m\u001b[0m\u001b[0m\n",
            "\u001b[0;31mKeyboardInterrupt\u001b[0m: "
          ]
        }
      ],
      "source": [
        "# xb = xgb.train(params, dtrain, num_rounds)\n",
        "# y_pred_xgb = xb.predict(dtest)\n",
        "# print(y_pred_xgb)"
      ]
    },
    {
      "cell_type": "markdown",
      "metadata": {
        "id": "0g5-co81Oi0v"
      },
      "source": [
        "#### catboost + 저장"
      ]
    },
    {
      "cell_type": "code",
      "execution_count": null,
      "metadata": {
        "colab": {
          "base_uri": "https://localhost:8080/"
        },
        "id": "Q-2EPGr5VqLH",
        "outputId": "569ef59b-28ec-4987-b54f-4d0d58587779"
      },
      "outputs": [
        {
          "name": "stdout",
          "output_type": "stream",
          "text": [
            "Looking in indexes: https://pypi.org/simple, https://us-python.pkg.dev/colab-wheels/public/simple/\n",
            "Collecting catboost\n",
            "  Downloading catboost-1.1-cp37-none-manylinux1_x86_64.whl (76.8 MB)\n",
            "\u001b[K     |████████████████████████████████| 76.8 MB 30 kB/s \n",
            "\u001b[?25hRequirement already satisfied: six in /usr/local/lib/python3.7/dist-packages (from catboost) (1.15.0)\n",
            "Requirement already satisfied: numpy>=1.16.0 in /usr/local/lib/python3.7/dist-packages (from catboost) (1.21.6)\n",
            "Requirement already satisfied: pandas>=0.24.0 in /usr/local/lib/python3.7/dist-packages (from catboost) (1.3.5)\n",
            "Requirement already satisfied: scipy in /usr/local/lib/python3.7/dist-packages (from catboost) (1.7.3)\n",
            "Requirement already satisfied: plotly in /usr/local/lib/python3.7/dist-packages (from catboost) (5.5.0)\n",
            "Requirement already satisfied: matplotlib in /usr/local/lib/python3.7/dist-packages (from catboost) (3.2.2)\n",
            "Requirement already satisfied: graphviz in /usr/local/lib/python3.7/dist-packages (from catboost) (0.10.1)\n",
            "Requirement already satisfied: python-dateutil>=2.7.3 in /usr/local/lib/python3.7/dist-packages (from pandas>=0.24.0->catboost) (2.8.2)\n",
            "Requirement already satisfied: pytz>=2017.3 in /usr/local/lib/python3.7/dist-packages (from pandas>=0.24.0->catboost) (2022.5)\n",
            "Requirement already satisfied: cycler>=0.10 in /usr/local/lib/python3.7/dist-packages (from matplotlib->catboost) (0.11.0)\n",
            "Requirement already satisfied: pyparsing!=2.0.4,!=2.1.2,!=2.1.6,>=2.0.1 in /usr/local/lib/python3.7/dist-packages (from matplotlib->catboost) (3.0.9)\n",
            "Requirement already satisfied: kiwisolver>=1.0.1 in /usr/local/lib/python3.7/dist-packages (from matplotlib->catboost) (1.4.4)\n",
            "Requirement already satisfied: typing-extensions in /usr/local/lib/python3.7/dist-packages (from kiwisolver>=1.0.1->matplotlib->catboost) (4.1.1)\n",
            "Requirement already satisfied: tenacity>=6.2.0 in /usr/local/lib/python3.7/dist-packages (from plotly->catboost) (8.1.0)\n",
            "Installing collected packages: catboost\n",
            "Successfully installed catboost-1.1\n"
          ]
        }
      ],
      "source": [
        "# pip install catboost"
      ]
    },
    {
      "cell_type": "code",
      "execution_count": null,
      "metadata": {
        "id": "yUhuWxA8Oiv5"
      },
      "outputs": [],
      "source": [
        "from catboost import CatBoostRegressor, Pool\n",
        "\n",
        "model = CatBoostRegressor(loss_function='MAE', iterations=40000, learning_rate=1, \n",
        "                          task_type='GPU', metric_period=50, random_state=42, eval_fraction=0.2)\n",
        "model.fit(X_train, y_train)"
      ]
    },
    {
      "cell_type": "code",
      "execution_count": null,
      "metadata": {
        "id": "VXZJF-XiOi4q"
      },
      "outputs": [],
      "source": [
        "cat_pred = model.predict(X_test)\n",
        "pred = 0.5 * cat_pred + 0.5 * LR_pred\n",
        "sample_submission = pd.read_csv(join(base_path, 'sample_submission.csv'))\n",
        "sample_submission['target'] = pred\n",
        "sample_submission.to_csv(\"./submit.csv\", index = False)"
      ]
    },
    {
      "cell_type": "code",
      "execution_count": null,
      "metadata": {
        "id": "C45aLlqJC7lw"
      },
      "outputs": [],
      "source": [
        "# Ensemble (LGBM + XGB)"
      ]
    },
    {
      "cell_type": "code",
      "execution_count": null,
      "metadata": {
        "id": "gGL1dFCB90Y9"
      },
      "outputs": [],
      "source": [
        "pip install thunderGBM"
      ]
    },
    {
      "cell_type": "code",
      "execution_count": null,
      "metadata": {
        "id": "6ifjHjwWwabN"
      },
      "outputs": [],
      "source": [
        "import pandas as pd\n",
        "from os.path import join\n",
        "sample_submission = pd.read_csv('sample_submission.csv')\n",
        "pred1=pd.read_csv('submit (21).csv')\n",
        "pred2=pd.read_csv('submit (22).csv')\n",
        "pred3=pd.read_csv('submit (23).csv')\n",
        "sample_submission['target']=0.9*pred1['target']+0.0*pred2['target']+0.1*pred3['target']\n",
        "sample_submission.to_csv(\"./submit.csv\", index = False)"
      ]
    },
    {
      "cell_type": "code",
      "execution_count": null,
      "metadata": {
        "id": "p4CG8-p-igGJ"
      },
      "outputs": [],
      "source": []
    }
  ],
  "metadata": {
    "colab": {
      "machine_shape": "hm",
      "provenance": []
    },
    "gpuClass": "standard",
    "kernelspec": {
      "display_name": "Python 3",
      "language": "python",
      "name": "python3"
    },
    "language_info": {
      "codemirror_mode": {
        "name": "ipython",
        "version": 3
      },
      "file_extension": ".py",
      "mimetype": "text/x-python",
      "name": "python",
      "nbconvert_exporter": "python",
      "pygments_lexer": "ipython3",
      "version": "3.8.3-final"
    }
  },
  "nbformat": 4,
  "nbformat_minor": 0
}
